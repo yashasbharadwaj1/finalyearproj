{
 "cells": [
  {
   "cell_type": "code",
   "execution_count": 1,
   "id": "f3f5054c",
   "metadata": {},
   "outputs": [],
   "source": [
    "import pandas as pd"
   ]
  },
  {
   "cell_type": "code",
   "execution_count": 2,
   "id": "e1dea57b",
   "metadata": {},
   "outputs": [],
   "source": [
    "data = pd.read_csv(\"out.csv\")"
   ]
  },
  {
   "cell_type": "code",
   "execution_count": 3,
   "id": "82f43ec8",
   "metadata": {},
   "outputs": [
    {
     "data": {
      "text/html": [
       "<div>\n",
       "<style scoped>\n",
       "    .dataframe tbody tr th:only-of-type {\n",
       "        vertical-align: middle;\n",
       "    }\n",
       "\n",
       "    .dataframe tbody tr th {\n",
       "        vertical-align: top;\n",
       "    }\n",
       "\n",
       "    .dataframe thead th {\n",
       "        text-align: right;\n",
       "    }\n",
       "</style>\n",
       "<table border=\"1\" class=\"dataframe\">\n",
       "  <thead>\n",
       "    <tr style=\"text-align: right;\">\n",
       "      <th></th>\n",
       "      <th>Unnamed: 0</th>\n",
       "      <th>0</th>\n",
       "    </tr>\n",
       "  </thead>\n",
       "  <tbody>\n",
       "    <tr>\n",
       "      <th>0</th>\n",
       "      <td>0</td>\n",
       "      <td>IN\\nSkip navigation\\nSign in\\nPathaan Movie Re...</td>\n",
       "    </tr>\n",
       "    <tr>\n",
       "      <th>1</th>\n",
       "      <td>1</td>\n",
       "      <td>NaN</td>\n",
       "    </tr>\n",
       "    <tr>\n",
       "      <th>2</th>\n",
       "      <td>2</td>\n",
       "      <td>NaN</td>\n",
       "    </tr>\n",
       "    <tr>\n",
       "      <th>3</th>\n",
       "      <td>3</td>\n",
       "      <td>John as Villain always rocks Aetbaar, Dhoom, Z...</td>\n",
       "    </tr>\n",
       "    <tr>\n",
       "      <th>4</th>\n",
       "      <td>4</td>\n",
       "      <td>For me SRK is not just a movie star. He is par...</td>\n",
       "    </tr>\n",
       "    <tr>\n",
       "      <th>...</th>\n",
       "      <td>...</td>\n",
       "      <td>...</td>\n",
       "    </tr>\n",
       "    <tr>\n",
       "      <th>85</th>\n",
       "      <td>85</td>\n",
       "      <td>NaN</td>\n",
       "    </tr>\n",
       "    <tr>\n",
       "      <th>86</th>\n",
       "      <td>86</td>\n",
       "      <td>NaN</td>\n",
       "    </tr>\n",
       "    <tr>\n",
       "      <th>87</th>\n",
       "      <td>87</td>\n",
       "      <td>NaN</td>\n",
       "    </tr>\n",
       "    <tr>\n",
       "      <th>88</th>\n",
       "      <td>88</td>\n",
       "      <td>NaN</td>\n",
       "    </tr>\n",
       "    <tr>\n",
       "      <th>89</th>\n",
       "      <td>89</td>\n",
       "      <td>NaN</td>\n",
       "    </tr>\n",
       "  </tbody>\n",
       "</table>\n",
       "<p>90 rows × 2 columns</p>\n",
       "</div>"
      ],
      "text/plain": [
       "    Unnamed: 0                                                  0\n",
       "0            0  IN\\nSkip navigation\\nSign in\\nPathaan Movie Re...\n",
       "1            1                                                NaN\n",
       "2            2                                                NaN\n",
       "3            3  John as Villain always rocks Aetbaar, Dhoom, Z...\n",
       "4            4  For me SRK is not just a movie star. He is par...\n",
       "..         ...                                                ...\n",
       "85          85                                                NaN\n",
       "86          86                                                NaN\n",
       "87          87                                                NaN\n",
       "88          88                                                NaN\n",
       "89          89                                                NaN\n",
       "\n",
       "[90 rows x 2 columns]"
      ]
     },
     "execution_count": 3,
     "metadata": {},
     "output_type": "execute_result"
    }
   ],
   "source": [
    "data"
   ]
  },
  {
   "cell_type": "code",
   "execution_count": 4,
   "id": "14e0967d",
   "metadata": {},
   "outputs": [],
   "source": [
    "data = data.dropna()"
   ]
  },
  {
   "cell_type": "code",
   "execution_count": 13,
   "id": "a266fcbf",
   "metadata": {},
   "outputs": [
    {
     "data": {
      "text/html": [
       "<div>\n",
       "<style scoped>\n",
       "    .dataframe tbody tr th:only-of-type {\n",
       "        vertical-align: middle;\n",
       "    }\n",
       "\n",
       "    .dataframe tbody tr th {\n",
       "        vertical-align: top;\n",
       "    }\n",
       "\n",
       "    .dataframe thead th {\n",
       "        text-align: right;\n",
       "    }\n",
       "</style>\n",
       "<table border=\"1\" class=\"dataframe\">\n",
       "  <thead>\n",
       "    <tr style=\"text-align: right;\">\n",
       "      <th></th>\n",
       "      <th>Unnamed: 0</th>\n",
       "      <th>0</th>\n",
       "    </tr>\n",
       "  </thead>\n",
       "  <tbody>\n",
       "    <tr>\n",
       "      <th>0</th>\n",
       "      <td>0</td>\n",
       "      <td>IN\\nSkip navigation\\nSign in\\nPathaan Movie Re...</td>\n",
       "    </tr>\n",
       "    <tr>\n",
       "      <th>3</th>\n",
       "      <td>3</td>\n",
       "      <td>John as Villain always rocks Aetbaar, Dhoom, Z...</td>\n",
       "    </tr>\n",
       "    <tr>\n",
       "      <th>4</th>\n",
       "      <td>4</td>\n",
       "      <td>For me SRK is not just a movie star. He is par...</td>\n",
       "    </tr>\n",
       "    <tr>\n",
       "      <th>5</th>\n",
       "      <td>5</td>\n",
       "      <td>Absolutely exhilarating what Pathaan is managi...</td>\n",
       "    </tr>\n",
       "    <tr>\n",
       "      <th>6</th>\n",
       "      <td>6</td>\n",
       "      <td>John's character 'Jim' must get a back story, ...</td>\n",
       "    </tr>\n",
       "    <tr>\n",
       "      <th>...</th>\n",
       "      <td>...</td>\n",
       "      <td>...</td>\n",
       "    </tr>\n",
       "    <tr>\n",
       "      <th>78</th>\n",
       "      <td>78</td>\n",
       "      <td>I cried so many times, I was so happy to see h...</td>\n",
       "    </tr>\n",
       "    <tr>\n",
       "      <th>79</th>\n",
       "      <td>79</td>\n",
       "      <td>Siddharth Anand, I feel went for more out of t...</td>\n",
       "    </tr>\n",
       "    <tr>\n",
       "      <th>80</th>\n",
       "      <td>80</td>\n",
       "      <td>Finally saw this in the 🇺🇸 in Imax truly made ...</td>\n",
       "    </tr>\n",
       "    <tr>\n",
       "      <th>81</th>\n",
       "      <td>81</td>\n",
       "      <td>a big thanks to all the bhakts who promoted th...</td>\n",
       "    </tr>\n",
       "    <tr>\n",
       "      <th>82</th>\n",
       "      <td>82</td>\n",
       "      <td>The man , The myth , The Legend\\nSRK IS BACK</td>\n",
       "    </tr>\n",
       "  </tbody>\n",
       "</table>\n",
       "<p>81 rows × 2 columns</p>\n",
       "</div>"
      ],
      "text/plain": [
       "    Unnamed: 0                                                  0\n",
       "0            0  IN\\nSkip navigation\\nSign in\\nPathaan Movie Re...\n",
       "3            3  John as Villain always rocks Aetbaar, Dhoom, Z...\n",
       "4            4  For me SRK is not just a movie star. He is par...\n",
       "5            5  Absolutely exhilarating what Pathaan is managi...\n",
       "6            6  John's character 'Jim' must get a back story, ...\n",
       "..         ...                                                ...\n",
       "78          78  I cried so many times, I was so happy to see h...\n",
       "79          79  Siddharth Anand, I feel went for more out of t...\n",
       "80          80  Finally saw this in the 🇺🇸 in Imax truly made ...\n",
       "81          81  a big thanks to all the bhakts who promoted th...\n",
       "82          82      The man , The myth , The Legend\\nSRK IS BACK \n",
       "\n",
       "[81 rows x 2 columns]"
      ]
     },
     "execution_count": 13,
     "metadata": {},
     "output_type": "execute_result"
    }
   ],
   "source": [
    "data"
   ]
  },
  {
   "cell_type": "code",
   "execution_count": 14,
   "id": "5e9d3611",
   "metadata": {},
   "outputs": [
    {
     "data": {
      "text/plain": [
       "Index(['Unnamed: 0', '0'], dtype='object')"
      ]
     },
     "execution_count": 14,
     "metadata": {},
     "output_type": "execute_result"
    }
   ],
   "source": [
    "data.columns"
   ]
  },
  {
   "cell_type": "code",
   "execution_count": 15,
   "id": "bdd5ce70",
   "metadata": {},
   "outputs": [
    {
     "data": {
      "text/html": [
       "<div>\n",
       "<style scoped>\n",
       "    .dataframe tbody tr th:only-of-type {\n",
       "        vertical-align: middle;\n",
       "    }\n",
       "\n",
       "    .dataframe tbody tr th {\n",
       "        vertical-align: top;\n",
       "    }\n",
       "\n",
       "    .dataframe thead th {\n",
       "        text-align: right;\n",
       "    }\n",
       "</style>\n",
       "<table border=\"1\" class=\"dataframe\">\n",
       "  <thead>\n",
       "    <tr style=\"text-align: right;\">\n",
       "      <th></th>\n",
       "      <th>Unnamed: 0</th>\n",
       "      <th>comment</th>\n",
       "    </tr>\n",
       "  </thead>\n",
       "  <tbody>\n",
       "    <tr>\n",
       "      <th>0</th>\n",
       "      <td>0</td>\n",
       "      <td>IN\\nSkip navigation\\nSign in\\nPathaan Movie Re...</td>\n",
       "    </tr>\n",
       "    <tr>\n",
       "      <th>3</th>\n",
       "      <td>3</td>\n",
       "      <td>John as Villain always rocks Aetbaar, Dhoom, Z...</td>\n",
       "    </tr>\n",
       "    <tr>\n",
       "      <th>4</th>\n",
       "      <td>4</td>\n",
       "      <td>For me SRK is not just a movie star. He is par...</td>\n",
       "    </tr>\n",
       "    <tr>\n",
       "      <th>5</th>\n",
       "      <td>5</td>\n",
       "      <td>Absolutely exhilarating what Pathaan is managi...</td>\n",
       "    </tr>\n",
       "    <tr>\n",
       "      <th>6</th>\n",
       "      <td>6</td>\n",
       "      <td>John's character 'Jim' must get a back story, ...</td>\n",
       "    </tr>\n",
       "    <tr>\n",
       "      <th>...</th>\n",
       "      <td>...</td>\n",
       "      <td>...</td>\n",
       "    </tr>\n",
       "    <tr>\n",
       "      <th>78</th>\n",
       "      <td>78</td>\n",
       "      <td>I cried so many times, I was so happy to see h...</td>\n",
       "    </tr>\n",
       "    <tr>\n",
       "      <th>79</th>\n",
       "      <td>79</td>\n",
       "      <td>Siddharth Anand, I feel went for more out of t...</td>\n",
       "    </tr>\n",
       "    <tr>\n",
       "      <th>80</th>\n",
       "      <td>80</td>\n",
       "      <td>Finally saw this in the 🇺🇸 in Imax truly made ...</td>\n",
       "    </tr>\n",
       "    <tr>\n",
       "      <th>81</th>\n",
       "      <td>81</td>\n",
       "      <td>a big thanks to all the bhakts who promoted th...</td>\n",
       "    </tr>\n",
       "    <tr>\n",
       "      <th>82</th>\n",
       "      <td>82</td>\n",
       "      <td>The man , The myth , The Legend\\nSRK IS BACK</td>\n",
       "    </tr>\n",
       "  </tbody>\n",
       "</table>\n",
       "<p>81 rows × 2 columns</p>\n",
       "</div>"
      ],
      "text/plain": [
       "    Unnamed: 0                                            comment\n",
       "0            0  IN\\nSkip navigation\\nSign in\\nPathaan Movie Re...\n",
       "3            3  John as Villain always rocks Aetbaar, Dhoom, Z...\n",
       "4            4  For me SRK is not just a movie star. He is par...\n",
       "5            5  Absolutely exhilarating what Pathaan is managi...\n",
       "6            6  John's character 'Jim' must get a back story, ...\n",
       "..         ...                                                ...\n",
       "78          78  I cried so many times, I was so happy to see h...\n",
       "79          79  Siddharth Anand, I feel went for more out of t...\n",
       "80          80  Finally saw this in the 🇺🇸 in Imax truly made ...\n",
       "81          81  a big thanks to all the bhakts who promoted th...\n",
       "82          82      The man , The myth , The Legend\\nSRK IS BACK \n",
       "\n",
       "[81 rows x 2 columns]"
      ]
     },
     "execution_count": 15,
     "metadata": {},
     "output_type": "execute_result"
    }
   ],
   "source": [
    "data.rename(columns={data.columns[1]: 'comment'})"
   ]
  },
  {
   "cell_type": "code",
   "execution_count": 21,
   "id": "f03e46a2",
   "metadata": {},
   "outputs": [],
   "source": [
    "df = data.drop(['Unnamed: 0'], axis=1)"
   ]
  },
  {
   "cell_type": "code",
   "execution_count": 63,
   "id": "fefbd890",
   "metadata": {},
   "outputs": [
    {
     "data": {
      "text/html": [
       "<div>\n",
       "<style scoped>\n",
       "    .dataframe tbody tr th:only-of-type {\n",
       "        vertical-align: middle;\n",
       "    }\n",
       "\n",
       "    .dataframe tbody tr th {\n",
       "        vertical-align: top;\n",
       "    }\n",
       "\n",
       "    .dataframe thead th {\n",
       "        text-align: right;\n",
       "    }\n",
       "</style>\n",
       "<table border=\"1\" class=\"dataframe\">\n",
       "  <thead>\n",
       "    <tr style=\"text-align: right;\">\n",
       "      <th></th>\n",
       "      <th>comment</th>\n",
       "    </tr>\n",
       "  </thead>\n",
       "  <tbody>\n",
       "    <tr>\n",
       "      <th>0</th>\n",
       "      <td>IN\\nSkip navigation\\nSign in\\nPathaan Movie Re...</td>\n",
       "    </tr>\n",
       "    <tr>\n",
       "      <th>3</th>\n",
       "      <td>John as Villain always rocks Aetbaar, Dhoom, Z...</td>\n",
       "    </tr>\n",
       "    <tr>\n",
       "      <th>4</th>\n",
       "      <td>For me SRK is not just a movie star. He is par...</td>\n",
       "    </tr>\n",
       "    <tr>\n",
       "      <th>5</th>\n",
       "      <td>Absolutely exhilarating what Pathaan is managi...</td>\n",
       "    </tr>\n",
       "    <tr>\n",
       "      <th>6</th>\n",
       "      <td>John's character 'Jim' must get a back story, ...</td>\n",
       "    </tr>\n",
       "    <tr>\n",
       "      <th>...</th>\n",
       "      <td>...</td>\n",
       "    </tr>\n",
       "    <tr>\n",
       "      <th>78</th>\n",
       "      <td>I cried so many times, I was so happy to see h...</td>\n",
       "    </tr>\n",
       "    <tr>\n",
       "      <th>79</th>\n",
       "      <td>Siddharth Anand, I feel went for more out of t...</td>\n",
       "    </tr>\n",
       "    <tr>\n",
       "      <th>80</th>\n",
       "      <td>Finally saw this in the 🇺🇸 in Imax truly made ...</td>\n",
       "    </tr>\n",
       "    <tr>\n",
       "      <th>81</th>\n",
       "      <td>a big thanks to all the bhakts who promoted th...</td>\n",
       "    </tr>\n",
       "    <tr>\n",
       "      <th>82</th>\n",
       "      <td>The man , The myth , The Legend\\nSRK IS BACK</td>\n",
       "    </tr>\n",
       "  </tbody>\n",
       "</table>\n",
       "<p>81 rows × 1 columns</p>\n",
       "</div>"
      ],
      "text/plain": [
       "                                              comment\n",
       "0   IN\\nSkip navigation\\nSign in\\nPathaan Movie Re...\n",
       "3   John as Villain always rocks Aetbaar, Dhoom, Z...\n",
       "4   For me SRK is not just a movie star. He is par...\n",
       "5   Absolutely exhilarating what Pathaan is managi...\n",
       "6   John's character 'Jim' must get a back story, ...\n",
       "..                                                ...\n",
       "78  I cried so many times, I was so happy to see h...\n",
       "79  Siddharth Anand, I feel went for more out of t...\n",
       "80  Finally saw this in the 🇺🇸 in Imax truly made ...\n",
       "81  a big thanks to all the bhakts who promoted th...\n",
       "82      The man , The myth , The Legend\\nSRK IS BACK \n",
       "\n",
       "[81 rows x 1 columns]"
      ]
     },
     "execution_count": 63,
     "metadata": {},
     "output_type": "execute_result"
    }
   ],
   "source": [
    "df"
   ]
  },
  {
   "cell_type": "code",
   "execution_count": 57,
   "id": "f2cf5060",
   "metadata": {},
   "outputs": [],
   "source": [
    "# text preprocessing \n",
    "mylist = df['comment'].to_list()"
   ]
  },
  {
   "cell_type": "code",
   "execution_count": 58,
   "id": "2767fe0e",
   "metadata": {},
   "outputs": [
    {
     "data": {
      "text/plain": [
       "81"
      ]
     },
     "execution_count": 58,
     "metadata": {},
     "output_type": "execute_result"
    }
   ],
   "source": [
    "len(mylist)"
   ]
  },
  {
   "cell_type": "code",
   "execution_count": 62,
   "id": "f081eeff",
   "metadata": {},
   "outputs": [
    {
     "data": {
      "text/plain": [
       "'IN\\nSkip navigation\\nSign in\\nPathaan Movie Review & Analysis | Shah Rukh Khan, Deepika Padukone, John Abraham | The Best Cameo 🔥\\nTried&Refused Productions.\\n1.13M subscribers\\nSubscribe\\n22K\\nShare\\n517K views  12 days ago  #tiger3 #pathaan #johnabraham\\nOne of the most anticipated Hindi films is finally here, #pathaan starring #shahrukh Khan #johnabraham #deepikapadukone and an in form and so stylish #salmankhan with the best possible cameo. The movie directed by #siddharthanand becomes an addition to the Y …\\nShow more\\n2,558 Comments\\nSort by\\nAdd a comment...\\n@surajitthakur1507\\n12 days ago\\nJohn as Villain always rocks Aetbaar, Dhoom, Zinda, Race 2 and now Pathaan \\n2K\\nReply\\n30 replies\\n@abirmondal3071\\n12 days ago\\nFor me SRK is not just a movie star. He is part of my childhood and adulthood. He is my nostalgia ️️\\n1.2K\\nReply\\n·\\n23 replies\\n@Insight_with_aditya\\n12 days ago\\nAbsolutely exhilarating what Pathaan is managing to do. Timeline has turned festive. People sharing stories of hooting whistling screaming with joy. A slap on the faces of those who sell hate for a living.\\n2.2K\\nReply\\n·\\n60 replies\\n@tayeeb6\\n12 days ago\\nJohn\\'s character \\'Jim\\' must get a back story, a solo movie. I get The Punisher vibes with the character (Jim).\\n145\\nReply\\n2 replies\\n@malayjoshi1098\\n12 days ago\\nJohn Abraham is officially the coolest baddie from Bollywood be it Dhoom or Pathaan...dude was the surprising factor for me....God knows after how long theatre erupted for a Hindi mass action film...after many hits and misses From Bollywood Siddharth Anand brought a mass extravaganza.... audience were so satisfied be it dancing on jhoome Jo pathaan or getting Goosebumps in the lab scene it was amazing not the best film out there but undeniably Hindi cinema is back in form of entertainment \\nRead more\\n1.6K\\nReply\\n·\\n21 replies\\n@sohinichaudhury1151\\n12 days ago\\nI am not particularly an SRK fan but I just knew I had to watch this film, as a whole hearted bollywood fan. And I do not regret it at all. Witnessed the craziness of a movie theater, the hooting, cheering and people just got up and just started dancing in full passion after sooooo long. It was an amazing experience and soooo happy that Bollywood is back with a bang!!! And kudos to you for not spoiling the cameo or anything, it\\'s the usp of the movie.\\nRead more\\n151\\nReply\\n2 replies\\n@lumiarstudios3877\\n12 days ago\\nSomeone used to do \"kuch bi\" episodes on NBK\\'s filmography. Now I\\'m eagerly waiting for Kuch Bi series on Pathan.\\n19\\nReply\\n1 reply\\n@poolsideconvos9123\\n12 days ago (edited)\\nHonestly i can\\'t describe how it feels seeing SRK back on screen in such a fashion2023 is the year of the KING\\n332\\nReply\\n·\\n5 replies\\n@rameezrazaansari4105\\n12 days ago\\nNever... I repeat  never ever underestimate the power of SRK...he is phoenix...it\\'s not the first time haters predicted \\'SRK\\'s time is over\\'  .but he always rises from the ashes.\\n1K\\nReply\\n·\\n47 replies\\n@sujeetsingh4746\\n10 days ago\\nOne of the underwhelming aspect which jammy did not choose to say which he did raise for other movies is the predictable plots and convience taken by director to just fill in and connect the story.\\nLike john telling all his plans in advance even the ending of how to disable the bomb. \\n59\\nReply\\n7 replies\\n@souravsen2005\\n12 days ago\\nI\\'m sooooo glad that SRK chose this film as his comeback movie after all these years.. It couldn\\'t have been a better choice.. While Jawaan and Dunki look very promising, what Pathaan does is create a hype for a YRF franchise that no one was expecting but can turn into a huge cash cow for Bollywood and YRF.. Can you imagine SRK, Salman, Hrithik, Katrina and Deepika in a single frame fighting the baddies.. What Pathaan does so easily is create a hype for Tiger 3 which is almost impossible to beat.. Eagerly looking forward to the YRF spy franchise and all the upcoming movies with bated breath \\nRead more\\n522\\nReply\\n15 replies\\n@dhanyaathreya1393\\n1 day ago\\nThe ending was badasss. SRK and the cameo chilling like old buddies, and saying \"yar hamein hi karna hai sab kuch\" was a big slap to today\\'s bollywood . It made me so emotional as a millenial kid, I was so happy with the duo !!\\n1\\nReply\\n@RSG_33\\n12 days ago\\nSeeing John Abraham on screen as Jim was gave me goosebumps!!!\\nI hope it will be the same case for Emraan Hashmi in Tiger 3!!!\\n200\\nReply\\n·\\n3 replies\\n@jiwanlama2780\\n12 days ago\\nThis is that type of a movie that you ignore little negatives and just enjoy it for what it is. You\\'re not watching a movie, you\\'re watching a lifetime of experience that you\\'re gonna take with you after you leave the theatre for the rest of your  lifet. The longevity and pulling power of SRK to attract all kinds of audiences is still a mystery to me. The best thing about this movie is you expect it to be grand and it turns out to be a total grand.\\nRead more\\n411\\nReply\\n·\\n15 replies\\n@rajattyagi8963\\n12 days ago (edited)\\nI think I\\'m going to tear up when I\\'ll see Salman and Shahrukh together on screen! \\n427\\nReply\\n·\\n9 replies\\n@pranjalisahu3752\\n12 days ago\\nI think salman and shahrukh sharing screen doing action pieces would easily be one of the main reasons one goes for this film and as i have stated earlier i\\'m really hyped to see shahrukh doing hand to hand combat after i saw him in the trailer. Sad to hear that the cgi issues are same as we expected from trailer but there\\'s no doubt tgis film is a banger\\n60\\nReply\\n@vedantbakshi6546\\n12 days ago\\nThis movie was a blast! Hats off to Siddharth Anand. He did a brilliant job directing this film. I\\'ve been more a fan of his rom coms than his action films but this has to be his best film. Such a great grip on the narrative and the fast screenplay by Shridhar Raghavan. Can\\'t wait for Fighter now!\\n453\\nReply\\n·\\n18 replies\\n@DesPardesCuisines\\n10 days ago\\nCan’t agree more. This is the first time ever that Bollywood got the storyline related to Pakistani characters right. Had so much fun in the packed theatre with Canadians from indian and Pakistani origin. It was Worth watching\\n6\\nReply\\n@mdwasifalamgir1322\\n12 days ago\\nWhen jhoome jo Pathaan started in my theater, literally each and every single one was dancing. It was like the crowd has gone completely crazy. That too in a multiplex. The craze was much more than what I\\'ve seen in single screens for so many movies.\\n289\\nReply\\n3 replies\\n@ankitagureck7018\\n12 days ago\\nPathaan doing great at the box office, knowing the amount of hate the movie and the star cast faced, the line of hate executed in the most vicious manner...it really brings a ray of hope and joy! Coz we all know now that this was not just about the movie doing good anymore. A lot of things were at stake. Once again, love has won over unnecessary hatred. #SRK \\n208\\nReply\\n·\\n14 replies\\n@shaileshmistry\\n10 days ago\\nThis obsession of YRF to show the collaboration of Indian RAW & Pakistan ISI is mindblowing started the Tiger series & this is the latest one. This is like showing American CIA & Russian KGB collaborating to save the world.\\n16\\nReply\\n1 reply\\n@muzaffaralisheikhji\\n12 days ago\\nI loved John’s performance in Dhoom1. But he never repeated such a role. With Pathan, John has made a well intentioned comeback in dark roles that you can really appreciate\\n98\\nReply\\n@piyushtiwari390\\n12 days ago (edited)\\nThat cheering for SRK in the hall is unexplainable. \\n221\\nReply\\n·\\n9 replies\\n@mikepopins1271\\n5 days ago\\nYou know it\\'s bollywood when people care more about stars than good scripts.\\n2\\nReply\\n@zorick100\\n12 days ago\\nThat\\'s what you call a comeback Finally saw my favourite actor in my favourite genre. Wanted to experience this in single screens but FDFS for a Hindi movie happened after a long looooong time\\n137\\nReply\\n@everythingsucks7559\\n12 days ago\\njhon\\'s character arc was the best and  most suprizing part of the movie\\n228\\nReply\\n·\\n4 replies\\n@SharpTalks\\n12 days ago\\nI Have Tears On My Cheeks Hearing These Words From You. As an SRKian who grew up watching him and saw his downfall in 2018 this made me soo happy FINALLY OUR KING IS BACK .... AS THE BADASS WE ALL WAITED FOR. They said only SRK can Save Bwood THAT BECAME A REALITY ️\\n130\\nReply\\n·\\n1 reply\\n@farhadalfahim\\n11 days ago\\nI was really worried about the overall chemistry of Deepika and John Abraham in their own character but they both exceeded my expectation and I am so happy that it turned out to be splendid.Happy to see the king made his appearance in a super bang.Love from 🇧🇩\\n6\\nReply\\n@desirockstar9825\\n12 days ago\\nThey should definitely make war 2 as a prequel with john abraham....\\nJohn has so much story to tell....\\nEven as john is ruthless in this movie... You really feel bad and emotional for john origin story... I hope Sidhart anand somehow include john in war 2...\\n28\\nReply\\n2 replies\\n@JayakumaranThangaiah\\n11 days ago\\nI find it eerily similar to Skyfall and many rehashed characters and scenes Mission Impossible movies. From SRK\\'s character being like Ethan Hunt, John Abraham being Javier Bardem, Deepika Padukone being Ilsa Faust, Dimple Kapadia being M (Judy Dench), Ashutosh Rana being Alec Baldwin (MI). The tower heist scene also similar MI:3. A combo of MI3, 4 and 5 if you notice how it was choreographed. Also, borrowing the skyhook scene from The Dark Knight. There are so many scenes are just copies of Skyfall and the many MI movies. Plot point also similar to MI:2 Rabbit Foot plot. I wanted to enjoy the movie but it just made me feel why its so similar to these movies :(\\nRead more\\n6\\nReply\\n1 reply\\n@driswant37\\n12 days ago\\nMissed Hrithik cameo but who knows ,we might get that one in Tiger 3 \\n196\\nReply\\n6 replies\\n@renudeepak1349\\n12 days ago\\nKing is Back!!!\\nJust finished watching Pathaan.\\nFar better than expectation.\\nTheatre turned into stadium \\n147\\nReply\\n·\\n4 replies\\n@shaneelchandra6601\\n12 days ago\\nJammy you don’t understand the tears of joy I just had… KING KHAN IS BACK BABY \\n207\\nReply\\n·\\n5 replies\\n@divyad5024\\n12 days ago (edited)\\nThe post credit scene... damn that post credit scene, NOSTALGIC and how ️ and what a movie, what a start !!!! This is the bollywood we\\'ve loved growing up ️ and we can truly compare it with some of the great Hollywood action movies.... Global approach and yet so resonating with India will do wonders for the collection ️\\n30\\nReply\\n1 reply\\n@abulyasahasanlodi1722\\n12 days ago\\nI just wish cameos such as one here would be kept a bit more under wraps atleast for the first weekend. Simba and Sooryavanshi also did the same with their cameos. Vikram did this perfectly. The Rolex reveal stands to be one of the best and had more impact imo just because it was kept under wraps.\\n191\\nReply\\n·\\n14 replies\\n@fahadashai8244\\n8 days ago\\nI am missing arjun rampal, he has been a vicious antagonist in srk movies.. Nd he looks  heartthrobing\\n2\\nReply\\n@shambhavimishra9459\\n12 days ago\\nI took a sigh of relief.. unfortunately couldn\\'t go and watch the show today but I can\\'t wait for experiencing it this Saturday. I never lost faith in SRK as he was idle of what a Bollywood actor is all about. No one can be him and no one can replace him.\\n260\\nReply\\n39 replies\\n@kkm969\\n12 days ago\\nPathaan showed that a hand to hand sequence if done right is better than mass action sequences. But needed to have John with more hand to hand combat like remember in Rocky Handsome.\\n64\\nReply\\n2 replies\\n@siddhantraj4188\\n11 days ago (edited)\\nLove how you talk about the misses but don\\'t miss to point out how the overwhelmingly positive aspects of the movie are what you really walk out with simply because the context and scale of the movie is so unique. OMG! Barring 1 or 2 instances, fully agree with this! Amazing!\\n12\\nReply\\n1 reply\\n@noorhasan2886\\n10 days ago\\nSHAHRUKHAN is truly blessed. He is God\\'s favourite child. This comeback is beyond any stardom. He is here to stay FOREVER ️\\n16\\nReply\\n@ddizzyme\\n12 days ago\\nThe only problem was the forced comedy.. Rest the movie was fantastic.. I didn\\'t find any action set underwhelming tbh. Also the end where they actually reveal what Pathaan\\'s role will be in this spy universe justifies how his character is in this movie.. He is no tiger Or Kabir he is different.. All of them are different tbh..its gonna be amazing to see what happens to this next \\nRead more\\n45\\nReply\\n3 replies\\n@alishahmohammad5336\\n12 days ago (edited)\\nHrithik wasnt in the movie but when they played war theme during salman khans cameo got me chills...cant wait for this trio\\n16\\nReply\\n@samsingh9550\\n12 days ago (edited)\\nImagine after Tiger 3, kabir, Tiger and Pathaan go on a mission where the main villains are Aamir Khan, Akshay Kumar and Ajay Devgn(atleast any 2 of them)!!!! Kuch jyada hi manifest ho gya\\n303\\nReply\\n18 replies\\n@princechauhan4121\\n12 days ago\\nThat train sequence is one of the best action sequence of indian cinema. \\n224\\nReply\\n·\\n14 replies\\n@divyarajan5976\\n12 days ago\\nOkay but can we just appreciate how glorious that cinematography was? I mean I was in love satchith paulouse does such a amazing job I mean my god\\n111\\nReply\\n4 replies\\n@gold752001\\n11 days ago\\nFor those who have watched the original Tom Cruise\\'s legacy in Mission Impossible, this Pathaan will look no less than a garibo ka MI. If the film\\'s screenplay would not have been written by the wonderful Shridhar Raghavan who also helped Sriram Raghvan in penning the screenplay of one of my favourite Bollywood 007 type movie, \\'Agent Vinod\\', this would have been a dud. Also Sridhar Raghvan is famous for his screenplays of \\'Aahat\\' and \\'CID\\'. I mean, I who had not read the story of Pathaan and watching it the first time was easily able to anticipate all the forthcoming scenarios. Like for example, Deepika Padukone working for John Abraham and the help to Shahrukh Khan being a flaw, then the childish gullible like scene where they imitate the small pox vaccine in an area in Afghanistan by doing makeup of some people etc. That is because I had already viewed Tom Cruise\\'s MI series and was highly overwhelmed by it. But yes, those who didn\\'t watch MI might appreciate this. Also, Shahrukh Khan with whatever bodybuilder like physique (or VFX) is no match for a natural body builder like John Abraham. I would have liked if Vidyut Jammwal would have played the role of Pathaan. Apart from Vidyut, I would only like to see Hritik or even Tiger Shroff or let\\'s say even Salman Khan fighting John Abraham. But Shahrukh is no match. But then, Shahrukh was pitched against a Goliath like Niketan Dheer in \\'Chennai Express\\'. It was like a child fighting John Rock. But that was a comedy movie, so I just laughed at it. But Pathaan was no comedy movie and watching Shahrukh Khan fight against a 6 feet 2 inched bodybuilder like John Abraham made me laugh. Controversies aside, I am not impressed by this movie and if you  really want to watch a 007 or a MI kind of Bollywood movie, go watch \\'Agent Vinod\\'.\\nRead more\\n4\\nReply\\n1 reply\\n@jordansanger2635\\n12 days ago\\nI can\\'t express how happy I am in words. I grew up watching his films and now that after 4 years I\\'m seeing him again back in action. I literally cried at the end of the movie \\U0001f979. Damnn it was such a great movie man.  The vfx could\\'ve been wayyy better and yeah comedy and the jet pack sequence wasn\\'t so thrilling kr exciting but the hand to hand combat was  man o man.\\nRead more\\n27\\nReply\\n@samash7302\\n12 days ago\\nJohn + Villain roles= \\n2\\nReply\\n@nikhilb43\\n12 days ago\\nActually the great parts about this movie and also Ajith\\'s Thunivu, although an average venture, is that the female leads Deepika Padukone and Manju Warrier had really put on some good performances when demanded.\\n8\\nReply\\n@fj628\\n11 days ago\\nAfter watching SRK in pathaan,  felt happy, excited, and cheering on his dialogues but most importantly an emotional moment for SRK fans ️. He is King of Bollywood \\n2\\nReply\\n@anandmohod3589\\n12 days ago\\nYou can\\'t imagine what Siddharth Anand  will do with Hrithik\\'s Fighter in 2024, Theaters will go Bonkers \\n35\\nReply\\n·\\n3 replies\\n@himanshugupta6147\\n11 days ago\\nExcellent marketing strategy. 10% of budget spent in p&A. But here in no money spent in visiting shows interview etc. Bought channels critics and spent 35 cr there. So becomes one of few movies like Schindler list to have no negative review. Exhilarating stuff.\\n22\\nReply\\n2 replies\\n@MovieFeedHindi\\n12 days ago\\nFelt Really Nostalgic After Watch\\'ing John, Reminded me alot About Dhoom 1, He Was Suppressing Srk In Few Scenes\\n64\\nReply\\n@maniacchauhan2615\\n11 days ago\\nIt\\'s a perfect, skilled and truthless paid promotion movie review by T&RP\\nGreat.. \\n12\\nReply\\n@mseyra1619\\n12 days ago\\nWas waiting for this review and I do admit that I let out a huge sigh of relief at the end. I\\'m excited more than ever to watch SRK absolutely kill it on the screens!\\n20\\nReply\\n@ifediran.\\n8 days ago\\nI hid from this channel until now cos Pathaan released this weekend in my country. What a film!!!! What a comeback for the Badshah of Bollywood!!!!\\nI\\'m relieved that Deepika\\'s character kicked ass and wasn\\'t just a pretty face, I do agree that she needed a better back story but I think they made up for it with the action!!!!\\n1\\nReply\\n@ritwikghosh7743\\n12 days ago\\nThe sacrifice scene in the lab just melted my heart. Has to be one of the most impactful scenes in Bollywood in the last few years, Dimple Kapadia is truly a genius.\\n10\\nReply\\n@ajitreddy2382\\n11 days ago\\nWhen will jammy put a poster of sharukh age 57 and deepika 32 in a matlab kuch bhi series . Waiting for it. Or only it is for other actors\\n37\\nReply\\n4 replies\\n@returntohades\\n11 days ago\\nMan, I had so much fun watching this in the theater. I live in a mid-sized Midwestern town, so many desis showed up to hoot and cheer (despite slippery winter road conditions) Made me yearn to be in India (or a larger US city) to experience it with the masses. I know it\\'s not the perfect film. There were nitpicks here and there to improve. But man - its like the director and the stars new the assignment and delivered on everything Bollywood fans wanted (and honestly needed, after the drought of recent times).\\nRead more\\n8\\nReply\\n1 reply\\n@reetomrakshit7866\\n12 days ago\\nNever ever did I think that in full-fledged SRK action movie, John Abraham would be the complete standout performer for me ️!! Ofc not taking away anything from SRK. THE KING IS BACK WITH A BANG, DAMN IT ️\\n10\\nReply\\n@25sumedhkadam58\\n12 days ago\\nJohn and an intelligent badass antagonist role is a match made in heaven.\\n49\\nReply\\n·\\n1 reply\\n@nagmakhan2898\\n12 days ago\\nCan\\'t explain how thrilled and glad I felt seeing the theatre erupt in cheer for this man. The movie is everything a Bollywood fan can ask for. Deepika in action scenes was just fab. John was great as a villain. But the best part was to see the two Khans together on screen. In short, this movie was full paisa wasool.\\n20\\nReply\\n@payalgoel6434\\n12 days ago\\nOne thing that I noticed was they integrated WAR bgm into the scene of salman and srk fighting over the train . Who knows , we might see a hrithik cameo in tiger 3\\n2\\nReply\\n@pratikpokharel4575\\n12 days ago\\nI honestly was not getting the emotional depth i wished to get from the movie besides all that the action pieces and SRK/John combat really made it a good visual experience\\n7\\nReply\\n@shrawanikaranjkar6393\\n11 days ago (edited)\\nPathan was absolutely amazing! Srk definitely couldn\\'t have made a better comeback!!  And now I\\'m even more excited for Tiger 3 because as it has been already hinted in this movie that both Pathan and Kabir are gonna have a cameo in it and its gonna be iconic !! I wish even Deepika\\'s character is there I would love to watch her interacting with Zoya.\\nReply\\n@nishchalmenon7726\\n12 days ago\\nI actually loved the BGM and the chemistry between Pathaan and Rubiah. It did work for me. The VFX did not, reallt bad according to todays standards. But overall a good massy action flick with SRK at his supreme glory\\\\\\n4\\nReply\\n@vijayasrinivasan8782\\n10 days ago\\nSurpringly no one has commented on the mismatch of shahrukhs face and body.it looks really funny.\\n5\\nReply\\n@niksiesm\\n11 days ago\\nAll the joy this movie has brought to people all over the world has made me internally truly happy for SRK; I was rooting for his success for last 10 years and always kept rooting even when his movies were underwhelming. If you ain’t loyal, r u really a fan anyway!\\nReply\\n@omsainarendra6604\\n12 days ago\\nPathaan was a good entertaining film. SRK is back and looks and what an entry scene just goosebumps . John as villain was perfect . The action between the two was just freaking awesome .Deepika with Machine gun was enough for me to see her spark  . Even though this felt similar to Mission Impossible 2 Plot , just the cameo of Salman Khan is enough to create havoc at the theatre , omg what a freaking cameo. thanks to boycott bollywood gang - theatres have turned in to stadiums . Hyderabad loves u SRK and man what a Comeback . Definitely Agree with ur review Anmol -  always great content  to watch .\\nRead more\\n2\\nReply\\n@arnabmukherjee9433\\n12 days ago\\nJohn Abraham is sooooooo underrated even after 20 years in the industry. Of course, he had some bad movies but what shocks me is how producers don’t want to take the risk of making anything other than action with him\\n6\\nReply\\n@dwipanditaborah4658\\n12 days ago\\nJammy, i cannot express my happiness for SRK. He deserves this love, he deserves the blessings of people. The fans deserved this too. Srk can never be the face of hate but only and ONLY LOVE ️ i watched it FDFS and i stopped out of the theatre smiling and crying and just so happy.\\n1\\nReply\\n@sharmassiddharth\\n10 days ago\\nMy only issue with SRK movies is that Pakistanis, even ISI shown in good light and prime antagonist is a often an Indian Army Officer gone rogue .. be it John of Pathan or Sunil Shetty of Mai Hun Na\\n2\\nReply\\n@bijoyyohanan\\n12 days ago\\nPathaan, Tiger, Kabir. Make it happen soon \\n60\\nReply\\n4 replies\\n@dhruvaaiyar6535\\n12 days ago\\nPathaan is a full on entertainer \\nReply\\n@kartikg9664\\n11 days ago\\nBig shoutout to you jammy. You were among the few creators who supported srk during his bad phase both professionally and personally. Wishing for your immense growth ️.\\n2\\nReply\\n@technologassam728\\n12 days ago (edited)\\nI cried so many times, I was so happy to see him in the big screen after so long , and of with a compelling and well executed movie and storyline. There was constant hooting and clapping throughout the movie, what a movie. Literally a comeback that SRK deserved  . The Dimple Kapadiya scene and of course the Bhaag Pathaan bhaag made me cry so hard. I have no other words PATHAAN is not just a movie, it\\'s an emotion, it\\'s a festival\\nRead more\\n19\\nReply\\n2 replies\\n@vimalmannapurath9651\\n12 days ago (edited)\\nSiddharth Anand, I feel went for more out of the box and ambitious action sequences in this one....War was rather done on safe zone like familiar car and bike chases but ofcourse well shot. And this film is written better too. He is definitely getting better at his craft.\\nRead more\\n4\\nReply\\n@ashi5305\\n12 days ago (edited)\\nFinally saw this in the 🇺🇸 in Imax truly made to be seen there.  Taking a break then will watch it again because there was so much happening....... that entrance from SRK  man wtf just makes the heart smile  I\\'m absolutely beyond excited to see him back on the big screen\\n2\\nReply\\n@SarcasmBot\\n12 days ago\\na big thanks to all the bhakts who promoted this film nationwide & made it a huge success \\n55\\nReply\\n@visibleinone5778\\n12 days ago\\nThe man , The myth , The Legend\\nSRK IS BACK \\n25\\nReply\\n13:03\\nPathaan Breaks Box Office Records | Spoiler Talk, Theories, Success, Failures & Analysis\\nTried&Refused Productions.\\n254K views 10 days ago\\n9:08\\nFAKE ACCENTS | Stand-up Comedy by Niv Prakasam\\nNiv Prakasam\\n1.5M views 11 days ago\\n23:32\\nHindenburg report on Adani, a big scam? #hindenburg #adani #akshat\\nAkshat Shrivastava\\n1.6M views 11 days ago\\n3:23\\nJhoome Jo Pathaan Song | Shah Rukh Khan, Deepika | Vishal & Sheykhar, Arijit Singh, Sukriti, Kumaar\\nYRF\\n223M views 1 month ago\\n11:29\\nWhat went wrong with Aamir Khan?\\nBackstage Beer\\n629 views 2 days ago\\nNew\\n10:57\\nPakistan\\'s 3 Biggest Mistakes that destroyed them | India vs Pakistan | Abhi and Niyu\\nAbhi and Niyu\\n1.7M views 11 days ago\\n9:11\\n10 Insane Moments When Theatres Turned Into Stadiums In 2022\\nTried&Refused Productions.\\n549K views 4 weeks ago\\n26:38\\nஇனிமே Lokesh-க்கு Chance கொடுக்க மாட்டாரு Vijay? - Anthanan Revealing the Secrets | Leo | AK 62\\nSS Music\\n142K views 1 day ago\\nNew\\n1:59:40\\nJohn Abraham | Deepika Padukone | Shah Rukh Khan | HD New Blockbuster 2023 | Pathaan Full Movie\\nMovies Bar\\n10M views 13 days ago\\n11:51\\nShocking Indian Movie Scenes/Dialogues You Won’t Believe Exist | MATLAB KUCH BHI\\nTried&Refused Productions.\\n592K views 4 months ago\\n32:21\\nRRR - The Biggest Blockbuster You\\'ve Never Heard Of\\nPatrick (H) Willems\\n1.2M views 9 months ago\\n5:58\\nPathaan movie REVIEW | Sucharita Tyagi | Shah Rukh Khan Deepika Padukone\\nSucharita Tyagi\\n84K views 12 days ago\\n17:03\\n🔥Ajith-ன் Master Plan இதுதான் : Cheyyar Balu Interview About AK 62 | Vignesh Shivan, Ajith Kumar\\nIndiaGlitz Tamil\\n67K views 2 days ago\\nNew\\n7:45\\nIs This The Last Generation Of Bollywood Stars? | What Has Changed?\\nTried&Refused Productions.\\n267K views 6 days ago\\nNew\\n11:27\\nValai Pechu | மீண்டும் விஜய் - வம்சி கூட்டணி | 2022 | 6th Feb 2023\\nValai Pechu\\n212K views 18 hours ago\\nNew\\n1:19:19\\nThe Filmmakers\\' Adda 2022 | Best Films Of The Year | Film Companion\\nFilm Companion\\n3.3M views 1 month ago\\n9:48\\nPonniyin Selvan 1 Movie Review & Analysis | Karthi, Aishwarya Rai, Vikram | Mani Ratnam\\nTried&Refused Productions.\\n528K views 4 months ago\\n18:14\\nSHAH RUKH KHAN\\'S FUNNIEST MOMENTS\\nTanmay Bhat\\n3M views 10 days ago\\n7:38\\nWTF Happened To Anurag Kashyap 😨 | Thalapathy Vijay In Leo | A Bollywood Movie Shot On iPhone 14\\nTried&Refused Productions.\\n153K views 1 day ago\\nNew\\n15:56\\nஅஜித், விஷ்னுவர்தன் கூட்டணியில் பாட்ஷா 2 கண்டிப்பா நடக்கும் | Cheyyaru Balu Exclusive | Leo | AK62\\nRecent Voice\\n35K views 21 hours ago\\nNew\\n46:18\\nEvolution of Shah Rukh Khan (1989-2023) • From \"Fauji\" to \"Pathaan\" | 30 Years of SRK ♠️\\nRewind Stars\\n1.7M views 1 month ago\\n10:27\\nPathan Review | From Boycott to Blockbuster (with a message!)! | Akash Banerjee\\nThe Deshbhakt\\n2.1M views 12 days ago\\n2:49:32\\nSultan\\nYouTube Movies\\nRomance • 2016\\nBuy or rent\\nU/A\\nMix - Tried&Refused Productions.\\nMore from this channel for you\\n7:03\\nদর্শকমনে বাজিমাত Shahrukh।Deepika। John-এর। Pathaan Movie Review।SRK-er comeback 🔥❤️\\nFILMYACtion LIGHT\\n1.1K views 6 days ago\\nNew\\nGaram Ji ने Salman को खूब हँसाया | The Kapil Sharma Show I Comedy Ka Tadka\\nLIV Comedy\\n1.8M views 3 weeks ago\\nJai Chiranjeeva Movie || Chiranjeevi Comedy Scenes || Back To Back\\nTelugu Comedy Videos\\n2.8M views 8 years ago\\nTiger Zinda Hai\\nYouTube Movies\\nDrama • 2017\\nBuy or rent\\nU/A\\n2:38\\n\\'Pathaan\\' Press Conference: Shah Rukh Khan Blessed Us With His Wit & Wisdom Once Again | The Quint\\nThe Quint\\n9.9K views 6 days ago\\nNew\\n2:32:28\\nBachna Ae Haseeno\\nYouTube Movies\\nIndian cinema • 2008\\nBuy or rent\\nU/A\\n12:07\\n10 Brutally Honest, Real & Sometimes Awkward Indian Celebrity Interviews\\nTried&Refused Productions.\\n442K views 4 days ago\\nNew\\n6:46\\n#pathaan I Was Wrong | Pathaan Movie Review & Reaction | Zain Anwar Reviews | The 5 Point Review\\nZain Anwar\\n94K views 12 days ago\\n1:43\\nKisi Ka Bhai Kisi Ki Jaan Teaser | Salman Khan, Venkatesh D, Pooja H | Farhad Samji | EID 2023\\nSalman Khan Films\\n33M views 12 days ago\\n11:44\\n10 Times Indian Celebrities Gave Brutally Honest Answers In Interviews\\nTried&Refused Productions.\\n1.8M views 11 months ago\\n37:32\\nHow SRK\\'s Comeback Film \\'Pathaan\\' Gave The Kiss Of Life To Bollywood? | Siddharth Anand Exclusive\\nCNBC-TV18\\n14K views 2 days ago\\nNew\\n5:53\\nPathaan Movie REVIEW | Deeksha Sharma\\nFilmi Indian\\n3.6M views 12 days ago\\n2:26\\nFARZI - Official Trailer | Raj & DK | Shahid, Sethupathi, Kay Kay, Raashii | Prime Video India |\\nBakchodi News baba\\n169K views 3 weeks ago\\n10:52\\n8 Most Awkward & Controversial Indian Celebrity Interviews & Statements\\nTried&Refused Productions.\\n491K views 2 months ago\\n17:09\\nRAB NE BANA DI JODI Movie Reaction Part 1/3! | Shah Rukh Khan | Anushka Sharma | Aditya Chopra\\nCineDesi\\n668K views 6 months ago\\n8:00\\n\\'People Were Determined to Enjoy Shah Rukh Khan-Starrer Pathaan\\': Abbas Tyrewala | The Quint\\nThe Quint\\n14K views 3 days ago\\nNew\\n2:13:03\\nEk Tha Tiger\\nYouTube Movies\\nIndian cinema • 2012\\nBuy or rent\\nU/A\\n20:07\\nHindenburg Report on Gautam Adani | Who Is Lying? | Akash Banerjee & Manjul\\nThe Deshbhakt\\n2.8M views 7 days ago\\n10:51\\nPATHAAN Movie Review - What Nobody Is Talking About!\\nShan Prasher\\n189K views 12 days ago\\n20:10\\nFull Episode 31 || Sarabhai Vs Sarabhai | Nilima aur Sahil #starbharat\\nSTAR भारत\\n268K views 2 weeks ago\\n12:39\\nपठान फ़िल्म देख निकल रहे हिन्दू भाई भावुक होगए | Pathaan | Night Show | Shahrukh Khan Jhuke Jo Pathan\\nPublic Reaction Bank\\n2.4M views 12 days ago\\n2:21:24\\nRaees\\nYouTube Movies\\nAction & adventure • 2017\\nBuy or rent\\nU/A\\n7:36\\nVeera Simha Reddy Movie Review & Analysis | Nandamuri Balakrishna, Shruti Haasan, Varalaxmi\\nTried&Refused Productions.\\n286K views 3 weeks ago\\nTenet\\nYouTube Movies\\nAction & adventure • 2020\\nBuy or rent\\nU/A\\nDID SOUTH INDIAN FILM INDUSTRY KILL BOLLYWOOD ?\\nU School India\\n4.3K views 9 days ago\\n5 Shocking Indian Movie Scenes/Dialogues You Won’t Believe Exist | MATLAB KUCH BHI\\nTried&Refused Productions.\\n485K views 3 months ago\\nPathaan Movie Review |KRK| #srk #pathaan #pathaanreview #krkreview #krk #latestreviews #deepika\\nKamaal R Khan - KRK\\n893K views 12 days ago\\nKartik Aaryan In Aap Ki Adalat: कटघरे में \\'शहजादे\\' ने खोले बड़े राज | Full Interview | Rajat Sharma\\nIndiaTV\\n3.1M views 2 weeks ago\\nSHAHRUKH KHAN IS SAVAGE! 😂 (TRY NOT TO LAUGH)\\nThugesh Unfiltered\\n2M views 2 weeks ago\\nEntrepreneur\\'s ने roast kia Vineeta ko! | Shark Tank India | Recode | Season 2 | Full Pitch\\nShark Tank India\\n1.1M views 3 days ago\\nNew\\nHonest Review: Pathaan movie review | Shah Rukh Khan, John Abraham, Deepika Padukone | MensXP\\nMensXP\\n271K views 12 days ago\\nDheena - Mass Scene | Ajith, Laila, Yuvan, A.r. Murugadoss | Bayshore\\nBayshore Records\\n992K views 4 years ago\\nPathan Movie Mei Sallu Bhai Ki Entry🔥🔥🔥|| John Abraham Rocked💪🏼\\nRajveer All In One\\n52K views 11 days ago\\n3 Decades Of SRK | Tribute To The Legend Of Indian Cinema 2022 | SRK SQUAD |\\nSRK SQUAD\\n2.1M views 7 months ago\\n8 Worst Bollywood Movie/Series Endings I Have Ever Seen\\nTried&Refused Productions.\\n558K views 7 months ago\\nPathaan | Official Trailer | Shah Rukh Khan | Deepika Padukone | John Abraham | Siddharth Anand\\nYRF\\n79M views 3 weeks ago'"
      ]
     },
     "execution_count": 62,
     "metadata": {},
     "output_type": "execute_result"
    }
   ],
   "source": [
    "mylist[0]"
   ]
  },
  {
   "cell_type": "markdown",
   "id": "06bd61ef",
   "metadata": {},
   "source": [
    "# dropping this because it has youtube advertisement transcript + thumbnail as i need only comments"
   ]
  },
  {
   "cell_type": "code",
   "execution_count": 67,
   "id": "631d5ef4",
   "metadata": {},
   "outputs": [],
   "source": [
    "del (mylist[0])"
   ]
  },
  {
   "cell_type": "code",
   "execution_count": 68,
   "id": "8590b4b9",
   "metadata": {},
   "outputs": [
    {
     "data": {
      "text/plain": [
       "80"
      ]
     },
     "execution_count": 68,
     "metadata": {},
     "output_type": "execute_result"
    }
   ],
   "source": [
    "len(mylist)"
   ]
  },
  {
   "cell_type": "code",
   "execution_count": 70,
   "id": "85d80092",
   "metadata": {},
   "outputs": [],
   "source": [
    "#!pip install nltk"
   ]
  },
  {
   "cell_type": "code",
   "execution_count": 72,
   "id": "2a300e77",
   "metadata": {},
   "outputs": [],
   "source": [
    "from nltk.corpus import stopwords"
   ]
  },
  {
   "cell_type": "code",
   "execution_count": 73,
   "id": "443ae9cb",
   "metadata": {},
   "outputs": [],
   "source": [
    "from nltk.stem import WordNetLemmatizer\n",
    "lemmatizer=WordNetLemmatizer()"
   ]
  },
  {
   "cell_type": "code",
   "execution_count": 75,
   "id": "90a6ca77",
   "metadata": {},
   "outputs": [],
   "source": [
    "import re\n",
    "corpus = []\n",
    "for i in range(len(mylist)):\n",
    "    review = re.sub('[^a-zA-Z]', ' ', mylist[i])\n",
    "    review = review.lower()\n",
    "    review = review.split()\n",
    "    review = [lemmatizer.lemmatize(word) for word in review if not word in set(stopwords.words('english'))]\n",
    "    review = ' '.join(review)\n",
    "    corpus.append(review)"
   ]
  },
  {
   "cell_type": "code",
   "execution_count": 78,
   "id": "1c27e358",
   "metadata": {},
   "outputs": [
    {
     "data": {
      "text/plain": [
       "'big thanks bhakts promoted film nationwide made huge success'"
      ]
     },
     "execution_count": 78,
     "metadata": {},
     "output_type": "execute_result"
    }
   ],
   "source": [
    "corpus[78]"
   ]
  },
  {
   "cell_type": "code",
   "execution_count": 116,
   "id": "6d0081fd",
   "metadata": {},
   "outputs": [
    {
     "data": {
      "text/plain": [
       "80"
      ]
     },
     "execution_count": 116,
     "metadata": {},
     "output_type": "execute_result"
    }
   ],
   "source": [
    "len(corpus)"
   ]
  },
  {
   "cell_type": "code",
   "execution_count": 117,
   "id": "1851921b",
   "metadata": {},
   "outputs": [],
   "source": [
    "#comment_id_list = []\n",
    "#for i in range(1,len(corpus)+1):\n",
    "    #comment_id_list.append(i)\n"
   ]
  },
  {
   "cell_type": "code",
   "execution_count": 118,
   "id": "aadb24f2",
   "metadata": {},
   "outputs": [],
   "source": [
    "#comment_id_list"
   ]
  },
  {
   "cell_type": "code",
   "execution_count": 119,
   "id": "1c04a3ab",
   "metadata": {},
   "outputs": [
    {
     "data": {
      "text/plain": [
       "80"
      ]
     },
     "execution_count": 119,
     "metadata": {},
     "output_type": "execute_result"
    }
   ],
   "source": [
    "len(corpus)"
   ]
  },
  {
   "cell_type": "code",
   "execution_count": 120,
   "id": "5f3c8c3c",
   "metadata": {},
   "outputs": [],
   "source": [
    "#len(comment_id_list)"
   ]
  },
  {
   "cell_type": "code",
   "execution_count": 122,
   "id": "197df75e",
   "metadata": {},
   "outputs": [
    {
     "data": {
      "text/html": [
       "<div>\n",
       "<style scoped>\n",
       "    .dataframe tbody tr th:only-of-type {\n",
       "        vertical-align: middle;\n",
       "    }\n",
       "\n",
       "    .dataframe tbody tr th {\n",
       "        vertical-align: top;\n",
       "    }\n",
       "\n",
       "    .dataframe thead th {\n",
       "        text-align: right;\n",
       "    }\n",
       "</style>\n",
       "<table border=\"1\" class=\"dataframe\">\n",
       "  <thead>\n",
       "    <tr style=\"text-align: right;\">\n",
       "      <th></th>\n",
       "      <th>Comment</th>\n",
       "    </tr>\n",
       "  </thead>\n",
       "  <tbody>\n",
       "    <tr>\n",
       "      <th>0</th>\n",
       "      <td>john villain always rock aetbaar dhoom zinda r...</td>\n",
       "    </tr>\n",
       "    <tr>\n",
       "      <th>1</th>\n",
       "      <td>srk movie star part childhood adulthood nostalgia</td>\n",
       "    </tr>\n",
       "    <tr>\n",
       "      <th>2</th>\n",
       "      <td>absolutely exhilarating pathaan managing timel...</td>\n",
       "    </tr>\n",
       "    <tr>\n",
       "      <th>3</th>\n",
       "      <td>john character jim must get back story solo mo...</td>\n",
       "    </tr>\n",
       "    <tr>\n",
       "      <th>4</th>\n",
       "      <td>john abraham officially coolest baddie bollywo...</td>\n",
       "    </tr>\n",
       "    <tr>\n",
       "      <th>...</th>\n",
       "      <td>...</td>\n",
       "    </tr>\n",
       "    <tr>\n",
       "      <th>75</th>\n",
       "      <td>cried many time happy see big screen long comp...</td>\n",
       "    </tr>\n",
       "    <tr>\n",
       "      <th>76</th>\n",
       "      <td>siddharth anand feel went box ambitious action...</td>\n",
       "    </tr>\n",
       "    <tr>\n",
       "      <th>77</th>\n",
       "      <td>finally saw imax truly made seen taking break ...</td>\n",
       "    </tr>\n",
       "    <tr>\n",
       "      <th>78</th>\n",
       "      <td>big thanks bhakts promoted film nationwide mad...</td>\n",
       "    </tr>\n",
       "    <tr>\n",
       "      <th>79</th>\n",
       "      <td>man myth legend srk back</td>\n",
       "    </tr>\n",
       "  </tbody>\n",
       "</table>\n",
       "<p>80 rows × 1 columns</p>\n",
       "</div>"
      ],
      "text/plain": [
       "                                              Comment\n",
       "0   john villain always rock aetbaar dhoom zinda r...\n",
       "1   srk movie star part childhood adulthood nostalgia\n",
       "2   absolutely exhilarating pathaan managing timel...\n",
       "3   john character jim must get back story solo mo...\n",
       "4   john abraham officially coolest baddie bollywo...\n",
       "..                                                ...\n",
       "75  cried many time happy see big screen long comp...\n",
       "76  siddharth anand feel went box ambitious action...\n",
       "77  finally saw imax truly made seen taking break ...\n",
       "78  big thanks bhakts promoted film nationwide mad...\n",
       "79                           man myth legend srk back\n",
       "\n",
       "[80 rows x 1 columns]"
      ]
     },
     "execution_count": 122,
     "metadata": {},
     "output_type": "execute_result"
    }
   ],
   "source": [
    "\n",
    "  \n",
    "# Calling DataFrame constructor after zipping\n",
    "# both lists, with columns specified\n",
    "new_df = pd.DataFrame(corpus,columns =['Comment'])\n",
    "new_df"
   ]
  },
  {
   "cell_type": "code",
   "execution_count": 123,
   "id": "c99ee7f4",
   "metadata": {},
   "outputs": [
    {
     "data": {
      "text/html": [
       "<div>\n",
       "<style scoped>\n",
       "    .dataframe tbody tr th:only-of-type {\n",
       "        vertical-align: middle;\n",
       "    }\n",
       "\n",
       "    .dataframe tbody tr th {\n",
       "        vertical-align: top;\n",
       "    }\n",
       "\n",
       "    .dataframe thead th {\n",
       "        text-align: right;\n",
       "    }\n",
       "</style>\n",
       "<table border=\"1\" class=\"dataframe\">\n",
       "  <thead>\n",
       "    <tr style=\"text-align: right;\">\n",
       "      <th></th>\n",
       "      <th>Comment</th>\n",
       "    </tr>\n",
       "  </thead>\n",
       "  <tbody>\n",
       "    <tr>\n",
       "      <th>75</th>\n",
       "      <td>cried many time happy see big screen long comp...</td>\n",
       "    </tr>\n",
       "    <tr>\n",
       "      <th>76</th>\n",
       "      <td>siddharth anand feel went box ambitious action...</td>\n",
       "    </tr>\n",
       "    <tr>\n",
       "      <th>77</th>\n",
       "      <td>finally saw imax truly made seen taking break ...</td>\n",
       "    </tr>\n",
       "    <tr>\n",
       "      <th>78</th>\n",
       "      <td>big thanks bhakts promoted film nationwide mad...</td>\n",
       "    </tr>\n",
       "    <tr>\n",
       "      <th>79</th>\n",
       "      <td>man myth legend srk back</td>\n",
       "    </tr>\n",
       "  </tbody>\n",
       "</table>\n",
       "</div>"
      ],
      "text/plain": [
       "                                              Comment\n",
       "75  cried many time happy see big screen long comp...\n",
       "76  siddharth anand feel went box ambitious action...\n",
       "77  finally saw imax truly made seen taking break ...\n",
       "78  big thanks bhakts promoted film nationwide mad...\n",
       "79                           man myth legend srk back"
      ]
     },
     "execution_count": 123,
     "metadata": {},
     "output_type": "execute_result"
    }
   ],
   "source": [
    "new_df.tail()"
   ]
  },
  {
   "cell_type": "code",
   "execution_count": 124,
   "id": "4d4c1c41",
   "metadata": {},
   "outputs": [
    {
     "data": {
      "text/plain": [
       "'big thanks bhakts promoted film nationwide made huge success'"
      ]
     },
     "execution_count": 124,
     "metadata": {},
     "output_type": "execute_result"
    }
   ],
   "source": [
    "new_df.iloc[77+1]['Comment']"
   ]
  },
  {
   "cell_type": "code",
   "execution_count": 125,
   "id": "3298680a",
   "metadata": {},
   "outputs": [
    {
     "data": {
      "text/html": [
       "<div>\n",
       "<style scoped>\n",
       "    .dataframe tbody tr th:only-of-type {\n",
       "        vertical-align: middle;\n",
       "    }\n",
       "\n",
       "    .dataframe tbody tr th {\n",
       "        vertical-align: top;\n",
       "    }\n",
       "\n",
       "    .dataframe thead th {\n",
       "        text-align: right;\n",
       "    }\n",
       "</style>\n",
       "<table border=\"1\" class=\"dataframe\">\n",
       "  <thead>\n",
       "    <tr style=\"text-align: right;\">\n",
       "      <th></th>\n",
       "      <th>Comment</th>\n",
       "    </tr>\n",
       "  </thead>\n",
       "  <tbody>\n",
       "    <tr>\n",
       "      <th>0</th>\n",
       "      <td>john villain always rock aetbaar dhoom zinda r...</td>\n",
       "    </tr>\n",
       "    <tr>\n",
       "      <th>1</th>\n",
       "      <td>srk movie star part childhood adulthood nostalgia</td>\n",
       "    </tr>\n",
       "    <tr>\n",
       "      <th>2</th>\n",
       "      <td>absolutely exhilarating pathaan managing timel...</td>\n",
       "    </tr>\n",
       "    <tr>\n",
       "      <th>3</th>\n",
       "      <td>john character jim must get back story solo mo...</td>\n",
       "    </tr>\n",
       "    <tr>\n",
       "      <th>4</th>\n",
       "      <td>john abraham officially coolest baddie bollywo...</td>\n",
       "    </tr>\n",
       "  </tbody>\n",
       "</table>\n",
       "</div>"
      ],
      "text/plain": [
       "                                             Comment\n",
       "0  john villain always rock aetbaar dhoom zinda r...\n",
       "1  srk movie star part childhood adulthood nostalgia\n",
       "2  absolutely exhilarating pathaan managing timel...\n",
       "3  john character jim must get back story solo mo...\n",
       "4  john abraham officially coolest baddie bollywo..."
      ]
     },
     "execution_count": 125,
     "metadata": {},
     "output_type": "execute_result"
    }
   ],
   "source": [
    "new_df.head()"
   ]
  },
  {
   "cell_type": "code",
   "execution_count": 126,
   "id": "0beb3d1a",
   "metadata": {},
   "outputs": [],
   "source": [
    "x = pd.DataFrame()"
   ]
  },
  {
   "cell_type": "code",
   "execution_count": 127,
   "id": "e588352c",
   "metadata": {},
   "outputs": [],
   "source": [
    "x = new_df"
   ]
  },
  {
   "cell_type": "code",
   "execution_count": 128,
   "id": "410c569d",
   "metadata": {},
   "outputs": [
    {
     "data": {
      "text/html": [
       "<div>\n",
       "<style scoped>\n",
       "    .dataframe tbody tr th:only-of-type {\n",
       "        vertical-align: middle;\n",
       "    }\n",
       "\n",
       "    .dataframe tbody tr th {\n",
       "        vertical-align: top;\n",
       "    }\n",
       "\n",
       "    .dataframe thead th {\n",
       "        text-align: right;\n",
       "    }\n",
       "</style>\n",
       "<table border=\"1\" class=\"dataframe\">\n",
       "  <thead>\n",
       "    <tr style=\"text-align: right;\">\n",
       "      <th></th>\n",
       "      <th>Comment</th>\n",
       "    </tr>\n",
       "  </thead>\n",
       "  <tbody>\n",
       "    <tr>\n",
       "      <th>0</th>\n",
       "      <td>john villain always rock aetbaar dhoom zinda r...</td>\n",
       "    </tr>\n",
       "    <tr>\n",
       "      <th>1</th>\n",
       "      <td>srk movie star part childhood adulthood nostalgia</td>\n",
       "    </tr>\n",
       "    <tr>\n",
       "      <th>2</th>\n",
       "      <td>absolutely exhilarating pathaan managing timel...</td>\n",
       "    </tr>\n",
       "    <tr>\n",
       "      <th>3</th>\n",
       "      <td>john character jim must get back story solo mo...</td>\n",
       "    </tr>\n",
       "    <tr>\n",
       "      <th>4</th>\n",
       "      <td>john abraham officially coolest baddie bollywo...</td>\n",
       "    </tr>\n",
       "    <tr>\n",
       "      <th>...</th>\n",
       "      <td>...</td>\n",
       "    </tr>\n",
       "    <tr>\n",
       "      <th>75</th>\n",
       "      <td>cried many time happy see big screen long comp...</td>\n",
       "    </tr>\n",
       "    <tr>\n",
       "      <th>76</th>\n",
       "      <td>siddharth anand feel went box ambitious action...</td>\n",
       "    </tr>\n",
       "    <tr>\n",
       "      <th>77</th>\n",
       "      <td>finally saw imax truly made seen taking break ...</td>\n",
       "    </tr>\n",
       "    <tr>\n",
       "      <th>78</th>\n",
       "      <td>big thanks bhakts promoted film nationwide mad...</td>\n",
       "    </tr>\n",
       "    <tr>\n",
       "      <th>79</th>\n",
       "      <td>man myth legend srk back</td>\n",
       "    </tr>\n",
       "  </tbody>\n",
       "</table>\n",
       "<p>80 rows × 1 columns</p>\n",
       "</div>"
      ],
      "text/plain": [
       "                                              Comment\n",
       "0   john villain always rock aetbaar dhoom zinda r...\n",
       "1   srk movie star part childhood adulthood nostalgia\n",
       "2   absolutely exhilarating pathaan managing timel...\n",
       "3   john character jim must get back story solo mo...\n",
       "4   john abraham officially coolest baddie bollywo...\n",
       "..                                                ...\n",
       "75  cried many time happy see big screen long comp...\n",
       "76  siddharth anand feel went box ambitious action...\n",
       "77  finally saw imax truly made seen taking break ...\n",
       "78  big thanks bhakts promoted film nationwide mad...\n",
       "79                           man myth legend srk back\n",
       "\n",
       "[80 rows x 1 columns]"
      ]
     },
     "execution_count": 128,
     "metadata": {},
     "output_type": "execute_result"
    }
   ],
   "source": [
    "x"
   ]
  },
  {
   "cell_type": "code",
   "execution_count": 129,
   "id": "91ac1ae2",
   "metadata": {},
   "outputs": [],
   "source": [
    "m = x.copy()"
   ]
  },
  {
   "cell_type": "code",
   "execution_count": 130,
   "id": "23d4d109",
   "metadata": {},
   "outputs": [
    {
     "data": {
      "text/html": [
       "<div>\n",
       "<style scoped>\n",
       "    .dataframe tbody tr th:only-of-type {\n",
       "        vertical-align: middle;\n",
       "    }\n",
       "\n",
       "    .dataframe tbody tr th {\n",
       "        vertical-align: top;\n",
       "    }\n",
       "\n",
       "    .dataframe thead th {\n",
       "        text-align: right;\n",
       "    }\n",
       "</style>\n",
       "<table border=\"1\" class=\"dataframe\">\n",
       "  <thead>\n",
       "    <tr style=\"text-align: right;\">\n",
       "      <th></th>\n",
       "      <th>Comment</th>\n",
       "    </tr>\n",
       "  </thead>\n",
       "  <tbody>\n",
       "    <tr>\n",
       "      <th>0</th>\n",
       "      <td>john villain always rock aetbaar dhoom zinda r...</td>\n",
       "    </tr>\n",
       "    <tr>\n",
       "      <th>1</th>\n",
       "      <td>srk movie star part childhood adulthood nostalgia</td>\n",
       "    </tr>\n",
       "    <tr>\n",
       "      <th>2</th>\n",
       "      <td>absolutely exhilarating pathaan managing timel...</td>\n",
       "    </tr>\n",
       "    <tr>\n",
       "      <th>3</th>\n",
       "      <td>john character jim must get back story solo mo...</td>\n",
       "    </tr>\n",
       "    <tr>\n",
       "      <th>4</th>\n",
       "      <td>john abraham officially coolest baddie bollywo...</td>\n",
       "    </tr>\n",
       "    <tr>\n",
       "      <th>...</th>\n",
       "      <td>...</td>\n",
       "    </tr>\n",
       "    <tr>\n",
       "      <th>75</th>\n",
       "      <td>cried many time happy see big screen long comp...</td>\n",
       "    </tr>\n",
       "    <tr>\n",
       "      <th>76</th>\n",
       "      <td>siddharth anand feel went box ambitious action...</td>\n",
       "    </tr>\n",
       "    <tr>\n",
       "      <th>77</th>\n",
       "      <td>finally saw imax truly made seen taking break ...</td>\n",
       "    </tr>\n",
       "    <tr>\n",
       "      <th>78</th>\n",
       "      <td>big thanks bhakts promoted film nationwide mad...</td>\n",
       "    </tr>\n",
       "    <tr>\n",
       "      <th>79</th>\n",
       "      <td>man myth legend srk back</td>\n",
       "    </tr>\n",
       "  </tbody>\n",
       "</table>\n",
       "<p>80 rows × 1 columns</p>\n",
       "</div>"
      ],
      "text/plain": [
       "                                              Comment\n",
       "0   john villain always rock aetbaar dhoom zinda r...\n",
       "1   srk movie star part childhood adulthood nostalgia\n",
       "2   absolutely exhilarating pathaan managing timel...\n",
       "3   john character jim must get back story solo mo...\n",
       "4   john abraham officially coolest baddie bollywo...\n",
       "..                                                ...\n",
       "75  cried many time happy see big screen long comp...\n",
       "76  siddharth anand feel went box ambitious action...\n",
       "77  finally saw imax truly made seen taking break ...\n",
       "78  big thanks bhakts promoted film nationwide mad...\n",
       "79                           man myth legend srk back\n",
       "\n",
       "[80 rows x 1 columns]"
      ]
     },
     "execution_count": 130,
     "metadata": {},
     "output_type": "execute_result"
    }
   ],
   "source": [
    "m"
   ]
  },
  {
   "cell_type": "code",
   "execution_count": null,
   "id": "844a9eda",
   "metadata": {},
   "outputs": [],
   "source": []
  }
 ],
 "metadata": {
  "kernelspec": {
   "display_name": "Python 3 (ipykernel)",
   "language": "python",
   "name": "python3"
  },
  "language_info": {
   "codemirror_mode": {
    "name": "ipython",
    "version": 3
   },
   "file_extension": ".py",
   "mimetype": "text/x-python",
   "name": "python",
   "nbconvert_exporter": "python",
   "pygments_lexer": "ipython3",
   "version": "3.9.13"
  }
 },
 "nbformat": 4,
 "nbformat_minor": 5
}
