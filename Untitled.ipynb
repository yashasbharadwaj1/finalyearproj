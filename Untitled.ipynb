{
 "cells": [
  {
   "cell_type": "code",
   "execution_count": 1,
   "id": "a184b823",
   "metadata": {},
   "outputs": [],
   "source": [
    "\n",
    "import re"
   ]
  },
  {
   "cell_type": "code",
   "execution_count": 2,
   "id": "8afce4cd-a18d-4b21-97c4-697f4cfa6596",
   "metadata": {},
   "outputs": [
    {
     "name": "stdout",
     "output_type": "stream",
     "text": [
      "Requirement already satisfied: transformers in c:\\users\\yasha\\anaconda3\\lib\\site-packages (4.26.1)Note: you may need to restart the kernel to use updated packages.\n",
      "\n",
      "Requirement already satisfied: numpy>=1.17 in c:\\users\\yasha\\anaconda3\\lib\\site-packages (from transformers) (1.21.5)\n",
      "Requirement already satisfied: pyyaml>=5.1 in c:\\users\\yasha\\anaconda3\\lib\\site-packages (from transformers) (6.0)\n",
      "Requirement already satisfied: tokenizers!=0.11.3,<0.14,>=0.11.1 in c:\\users\\yasha\\anaconda3\\lib\\site-packages (from transformers) (0.13.2)\n",
      "Requirement already satisfied: tqdm>=4.27 in c:\\users\\yasha\\anaconda3\\lib\\site-packages (from transformers) (4.64.1)\n",
      "Requirement already satisfied: huggingface-hub<1.0,>=0.11.0 in c:\\users\\yasha\\anaconda3\\lib\\site-packages (from transformers) (0.12.1)\n",
      "Requirement already satisfied: filelock in c:\\users\\yasha\\anaconda3\\lib\\site-packages (from transformers) (3.6.0)\n",
      "Requirement already satisfied: requests in c:\\users\\yasha\\anaconda3\\lib\\site-packages (from transformers) (2.28.1)\n",
      "Requirement already satisfied: regex!=2019.12.17 in c:\\users\\yasha\\anaconda3\\lib\\site-packages (from transformers) (2022.7.9)\n",
      "Requirement already satisfied: packaging>=20.0 in c:\\users\\yasha\\anaconda3\\lib\\site-packages (from transformers) (21.3)\n",
      "Requirement already satisfied: typing-extensions>=3.7.4.3 in c:\\users\\yasha\\anaconda3\\lib\\site-packages (from huggingface-hub<1.0,>=0.11.0->transformers) (4.3.0)\n",
      "Requirement already satisfied: pyparsing!=3.0.5,>=2.0.2 in c:\\users\\yasha\\anaconda3\\lib\\site-packages (from packaging>=20.0->transformers) (3.0.9)\n",
      "Requirement already satisfied: colorama in c:\\users\\yasha\\anaconda3\\lib\\site-packages (from tqdm>=4.27->transformers) (0.4.5)\n",
      "Requirement already satisfied: idna<4,>=2.5 in c:\\users\\yasha\\anaconda3\\lib\\site-packages (from requests->transformers) (3.3)\n",
      "Requirement already satisfied: certifi>=2017.4.17 in c:\\users\\yasha\\anaconda3\\lib\\site-packages (from requests->transformers) (2022.9.14)\n",
      "Requirement already satisfied: urllib3<1.27,>=1.21.1 in c:\\users\\yasha\\anaconda3\\lib\\site-packages (from requests->transformers) (1.26.11)\n",
      "Requirement already satisfied: charset-normalizer<3,>=2 in c:\\users\\yasha\\anaconda3\\lib\\site-packages (from requests->transformers) (2.0.4)\n"
     ]
    }
   ],
   "source": [
    "pip install transformers"
   ]
  },
  {
   "cell_type": "code",
   "execution_count": 15,
   "id": "c755b3f5",
   "metadata": {},
   "outputs": [],
   "source": [
    "\n",
    "import torch"
   ]
  },
  {
   "cell_type": "code",
   "execution_count": 16,
   "id": "e4c81cf5",
   "metadata": {},
   "outputs": [
    {
     "name": "stdout",
     "output_type": "stream",
     "text": [
      "1.13.1\n"
     ]
    }
   ],
   "source": [
    "print(torch.__version__)"
   ]
  },
  {
   "cell_type": "code",
   "execution_count": 17,
   "id": "d7607dd8-2887-4892-84d9-e2f319327146",
   "metadata": {},
   "outputs": [],
   "source": [
    "from transformers import pipeline"
   ]
  },
  {
   "cell_type": "code",
   "execution_count": null,
   "id": "ac5d78c9",
   "metadata": {},
   "outputs": [],
   "source": []
  },
  {
   "cell_type": "code",
   "execution_count": 18,
   "id": "0af2e82e",
   "metadata": {},
   "outputs": [],
   "source": [
    "import pandas as pd"
   ]
  },
  {
   "cell_type": "code",
   "execution_count": 19,
   "id": "033e34d9",
   "metadata": {},
   "outputs": [],
   "source": [
    "the_df = pd.read_csv(\"Pathan.csv\")"
   ]
  },
  {
   "cell_type": "code",
   "execution_count": 6,
   "id": "68353a82",
   "metadata": {},
   "outputs": [
    {
     "data": {
      "text/html": [
       "<div>\n",
       "<style scoped>\n",
       "    .dataframe tbody tr th:only-of-type {\n",
       "        vertical-align: middle;\n",
       "    }\n",
       "\n",
       "    .dataframe tbody tr th {\n",
       "        vertical-align: top;\n",
       "    }\n",
       "\n",
       "    .dataframe thead th {\n",
       "        text-align: right;\n",
       "    }\n",
       "</style>\n",
       "<table border=\"1\" class=\"dataframe\">\n",
       "  <thead>\n",
       "    <tr style=\"text-align: right;\">\n",
       "      <th></th>\n",
       "      <th>Unnamed: 0</th>\n",
       "      <th>comment</th>\n",
       "    </tr>\n",
       "  </thead>\n",
       "  <tbody>\n",
       "    <tr>\n",
       "      <th>0</th>\n",
       "      <td>0</td>\n",
       "      <td>IN\\nSkip navigation\\nSign in\\nPathaan Movie Re...</td>\n",
       "    </tr>\n",
       "    <tr>\n",
       "      <th>1</th>\n",
       "      <td>1</td>\n",
       "      <td>NaN</td>\n",
       "    </tr>\n",
       "    <tr>\n",
       "      <th>2</th>\n",
       "      <td>2</td>\n",
       "      <td>NaN</td>\n",
       "    </tr>\n",
       "    <tr>\n",
       "      <th>3</th>\n",
       "      <td>3</td>\n",
       "      <td>For me SRK is not just a movie star. He is par...</td>\n",
       "    </tr>\n",
       "    <tr>\n",
       "      <th>4</th>\n",
       "      <td>4</td>\n",
       "      <td>John as Villain always rocks Aetbaar, Dhoom, Z...</td>\n",
       "    </tr>\n",
       "  </tbody>\n",
       "</table>\n",
       "</div>"
      ],
      "text/plain": [
       "   Unnamed: 0                                            comment\n",
       "0           0  IN\\nSkip navigation\\nSign in\\nPathaan Movie Re...\n",
       "1           1                                                NaN\n",
       "2           2                                                NaN\n",
       "3           3  For me SRK is not just a movie star. He is par...\n",
       "4           4  John as Villain always rocks Aetbaar, Dhoom, Z..."
      ]
     },
     "execution_count": 6,
     "metadata": {},
     "output_type": "execute_result"
    }
   ],
   "source": [
    "the_df.head()"
   ]
  },
  {
   "cell_type": "code",
   "execution_count": 7,
   "id": "9c316bfe",
   "metadata": {},
   "outputs": [],
   "source": [
    "\n",
    "my_df = the_df.dropna()\n",
    "mylist = my_df['comment'].to_list()\n",
    "del (mylist[0])\n",
    "\n",
    "corpus = []\n",
    "for i in range(len(mylist)):\n",
    "    review = re.sub('[^a-zA-Z]', ' ', mylist[i])\n",
    "    review = review.lower() \n",
    "    corpus.append(review)\n",
    "            \n"
   ]
  },
  {
   "cell_type": "code",
   "execution_count": 8,
   "id": "0d319906",
   "metadata": {},
   "outputs": [
    {
     "data": {
      "text/plain": [
       "['for me srk is not just a movie star  he is part of my childhood and adulthood  he is my nostalgia   ',\n",
       " 'john as villain always rocks aetbaar  dhoom  zinda  race   and now pathaan ',\n",
       " 'absolutely exhilarating what pathaan is managing to do  timeline has turned festive  people sharing stories of hooting whistling screaming with joy  a slap on the faces of those who sell hate for a living ',\n",
       " 'john s character  jim  must get a back story  a solo movie  i get the punisher vibes with the character  jim  ',\n",
       " 'john abraham is officially the coolest baddie from bollywood be it dhoom or pathaan   dude was the surprising factor for me    god knows after how long theatre erupted for a hindi mass action film   after many hits and misses from bollywood siddharth anand brought a mass extravaganza     audience were so satisfied be it dancing on jhoome jo pathaan or getting goosebumps in the lab scene it was amazing not the best film out there but undeniably hindi cinema is back in form of entertainment ',\n",
       " 'i am not particularly an srk fan but i just knew i had to watch this film  as a whole hearted bollywood fan  and i do not regret it at all  witnessed the craziness of a movie theater  the hooting  cheering and people just got up and just started dancing in full passion after sooooo long  it was an amazing experience and soooo happy that bollywood is back with a bang    and kudos to you for not spoiling the cameo or anything  it s the usp of the movie ',\n",
       " 'never    i repeat  never ever underestimate the power of srk   he is phoenix   it s not the first time haters predicted  srk s time is over    but he always rises from the ashes ',\n",
       " 'i m sooooo glad that srk chose this film as his comeback movie after all these years   it couldn t have been a better choice   while jawaan and dunki look very promising  what pathaan does is create a hype for a yrf franchise that no one was expecting but can turn into a huge cash cow for bollywood and yrf   can you imagine srk  salman  hrithik  katrina and deepika in a single frame fighting the baddies   what pathaan does so easily is create a hype for tiger   which is almost impossible to beat   eagerly looking forward to the yrf spy franchise and all the upcoming movies with bated breath ',\n",
       " 'honestly i can t describe how it feels seeing srk back on screen in such a fashion     is the year of the king',\n",
       " 'one of the underwhelming aspect which jammy did not choose to say which he did raise for other movies is the predictable plots and convience taken by director to just fill in and connect the story  like john telling all his plans in advance even the ending of how to disable the bomb  ',\n",
       " 'this is that type of a movie that you ignore little negatives and just enjoy it for what it is  you re not watching a movie  you re watching a lifetime of experience that you re gonna take with you after you leave the theatre for the rest of your  lifet  the longevity and pulling power of srk to attract all kinds of audiences is still a mystery to me  the best thing about this movie is you expect it to be grand and it turns out to be a total grand ',\n",
       " 'the ending was badasss  srk and the cameo chilling like old buddies  and saying  yar hamein hi karna hai sab kuch  was a big slap to today s bollywood   it made me so emotional as a millenial kid  i was so happy with the duo   ',\n",
       " 'this movie was a blast  hats off to siddharth anand  he did a brilliant job directing this film  i ve been more a fan of his rom coms than his action films but this has to be his best film  such a great grip on the narrative and the fast screenplay by shridhar raghavan  can t wait for fighter now ',\n",
       " 'seeing john abraham on screen as jim was gave me goosebumps    i hope it will be the same case for emraan hashmi in tiger     ',\n",
       " 'i think i m going to tear up when i ll see salman and shahrukh together on screen  ',\n",
       " 'someone used to do  kuch bi  episodes on nbk s filmography  now i m eagerly waiting for kuch bi series on pathan ',\n",
       " 'i find it eerily similar to skyfall and many rehashed characters and scenes mission impossible movies  from srk s character being like ethan hunt  john abraham being javier bardem  deepika padukone being ilsa faust  dimple kapadia being m  judy dench   ashutosh rana being alec baldwin  mi   the tower heist scene also similar mi    a combo of mi     and   if you notice how it was choreographed  also  borrowing the skyhook scene from the dark knight  there are so many scenes are just copies of skyfall and the many mi movies  plot point also similar to mi   rabbit foot plot  i wanted to enjoy the movie but it just made me feel why its so similar to these movies   ',\n",
       " 'can t agree more  this is the first time ever that bollywood got the storyline related to pakistani characters right  had so much fun in the packed theatre with canadians from indian and pakistani origin  it was worth watching',\n",
       " 'pathaan doing great at the box office  knowing the amount of hate the movie and the star cast faced  the line of hate executed in the most vicious manner   it really brings a ray of hope and joy  coz we all know now that this was not just about the movie doing good anymore  a lot of things were at stake  once again  love has won over unnecessary hatred   srk ',\n",
       " 'i loved john s performance in dhoom   but he never repeated such a role  with pathan  john has made a well intentioned comeback in dark roles that you can really appreciate',\n",
       " 'that cheering for srk in the hall is unexplainable  ',\n",
       " 'shahrukhan is truly blessed  he is god s favourite child  this comeback is beyond any stardom  he is here to stay forever  ',\n",
       " 'when jhoome jo pathaan started in my theater  literally each and every single one was dancing  it was like the crowd has gone completely crazy  that too in a multiplex  the craze was much more than what i ve seen in single screens for so many movies ',\n",
       " 'love how you talk about the misses but don t miss to point out how the overwhelmingly positive aspects of the movie are what you really walk out with simply because the context and scale of the movie is so unique  omg  barring   or   instances  fully agree with this  amazing ',\n",
       " 'that s what you call a comeback finally saw my favourite actor in my favourite genre  wanted to experience this in single screens but fdfs for a hindi movie happened after a long looooong time',\n",
       " 'i took a sigh of relief   unfortunately couldn t go and watch the show today but i can t wait for experiencing it this saturday  i never lost faith in srk as he was idle of what a bollywood actor is all about  no one can be him and no one can replace him ',\n",
       " 'i think salman and shahrukh sharing screen doing action pieces would easily be one of the main reasons one goes for this film and as i have stated earlier i m really hyped to see shahrukh doing hand to hand combat after i saw him in the trailer  sad to hear that the cgi issues are same as we expected from trailer but there s no doubt tgis film is a banger',\n",
       " 'excellent marketing strategy      of budget spent in p a  but here in no money spent in visiting shows interview etc  bought channels critics and spent    cr there  so becomes one of few movies like schindler list to have no negative review  exhilarating stuff ',\n",
       " 'king is back    just finished watching pathaan  far better than expectation  theatre turned into stadium ',\n",
       " 'when will jammy put a poster of sharukh age    and deepika    in a matlab kuch bhi series   waiting for it  or only it is for other actors',\n",
       " 'jhon s character arc was the best and  most suprizing part of the movie',\n",
       " 'i have tears on my cheeks hearing these words from you  as an srkian who grew up watching him and saw his downfall in      this made me soo happy finally our king is back      as the badass we all waited for  they said only srk can save bwood that became a reality  ',\n",
       " 'missed hrithik cameo but who knows  we might get that one in tiger   ',\n",
       " 'after the release of pathan  i have seen many movie reviews  to be honest this is the most unbiased one  thanks for bringing up all the facts ',\n",
       " 'i just wish cameos such as one here would be kept a bit more under wraps atleast for the first weekend  simba and sooryavanshi also did the same with their cameos  vikram did this perfectly  the rolex reveal stands to be one of the best and had more impact imo just because it was kept under wraps ',\n",
       " 'the post credit scene    damn that post credit scene  nostalgic and how   and what a movie  what a start      this is the bollywood we ve loved growing up   and we can truly compare it with some of the great hollywood action movies     global approach and yet so resonating with india will do wonders for the collection  ',\n",
       " 'they should definitely make war   as a prequel with john abraham     john has so much story to tell     even as john is ruthless in this movie    you really feel bad and emotional for john origin story    i hope sidhart anand somehow include john in war     ',\n",
       " 'pathaan showed that a hand to hand sequence if done right is better than mass action sequences  but needed to have john with more hand to hand combat like remember in rocky handsome ',\n",
       " 'that train sequence is one of the best action sequence of indian cinema  ',\n",
       " 'this obsession of yrf to show the collaboration of indian raw   pakistan isi is mindblowing started the tiger series   this is the latest one  this is like showing american cia   russian kgb collaborating to save the world ',\n",
       " 'okay but can we just appreciate how glorious that cinematography was  i mean i was in love satchith paulouse does such a amazing job i mean my god',\n",
       " 'surpringly no one has commented on the mismatch of shahrukhs face and body it looks really funny ',\n",
       " 'imagine after tiger    kabir  tiger and pathaan go on a mission where the main villains are aamir khan  akshay kumar and ajay devgn atleast any   of them      kuch jyada hi manifest ho gya',\n",
       " 'the only problem was the forced comedy   rest the movie was fantastic   i didn t find any action set underwhelming tbh  also the end where they actually reveal what pathaan s role will be in this spy universe justifies how his character is in this movie   he is no tiger or kabir he is different   all of them are different tbh  its gonna be amazing to see what happens to this next ',\n",
       " 'jammy you don t understand the tears of joy i just had  king khan is back baby ',\n",
       " 'he is an emotion for us now  a good human being  a wonderful person  educated  and many more    welcome back srk',\n",
       " 'i was really worried about the overall chemistry of deepika and john abraham in their own character but they both exceeded my expectation and i am so happy that it turned out to be splendid happy to see the king made his appearance in a super bang love from   ',\n",
       " 'one of the great actor in bollywood history wonderful human being  srk amazing movie great work by john ',\n",
       " 'john and an intelligent badass antagonist role is a match made in heaven ',\n",
       " 'hrithik wasnt in the movie but when they played war theme during salman khans cameo got me chills   cant wait for this trio',\n",
       " 'i can t express how happy i am in words  i grew up watching his films and now that after   years i m seeing him again back in action  i literally cried at the end of the movie    damnn it was such a great movie man   the vfx could ve been wayyy better and yeah comedy and the jet pack sequence wasn t so thrilling kr exciting but the hand to hand combat was  man o man ',\n",
       " 'actually the great parts about this movie and also ajith s thunivu  although an average venture  is that the female leads deepika padukone and manju warrier had really put on some good performances when demanded ',\n",
       " 'was waiting for this review and i do admit that i let out a huge sigh of relief at the end  i m excited more than ever to watch srk absolutely kill it on the screens ',\n",
       " 'for those who have watched the original tom cruise s legacy in mission impossible  this pathaan will look no less than a garibo ka mi  if the film s screenplay would not have been written by the wonderful shridhar raghavan who also helped sriram raghvan in penning the screenplay of one of my favourite bollywood     type movie   agent vinod   this would have been a dud  also sridhar raghvan is famous for his screenplays of  aahat  and  cid   i mean  i who had not read the story of pathaan and watching it the first time was easily able to anticipate all the forthcoming scenarios  like for example  deepika padukone working for john abraham and the help to shahrukh khan being a flaw  then the childish gullible like scene where they imitate the small pox vaccine in an area in afghanistan by doing makeup of some people etc  that is because i had already viewed tom cruise s mi series and was highly overwhelmed by it  but yes  those who didn t watch mi might appreciate this  also  shahrukh khan with whatever bodybuilder like physique  or vfx  is no match for a natural body builder like john abraham  i would have liked if vidyut jammwal would have played the role of pathaan  apart from vidyut  i would only like to see hritik or even tiger shroff or let s say even salman khan fighting john abraham  but shahrukh is no match  but then  shahrukh was pitched against a goliath like niketan dheer in  chennai express   it was like a child fighting john rock  but that was a comedy movie  so i just laughed at it  but pathaan was no comedy movie and watching shahrukh khan fight against a   feet   inched bodybuilder like john abraham made me laugh  controversies aside  i am not impressed by this movie and if you  really want to watch a     or a mi kind of bollywood movie  go watch  agent vinod  ',\n",
       " 'can t explain how thrilled and glad i felt seeing the theatre erupt in cheer for this man  the movie is everything a bollywood fan can ask for  deepika in action scenes was just fab  john was great as a villain  but the best part was to see the two khans together on screen  in short  this movie was full paisa wasool ',\n",
       " 'felt really nostalgic after watch ing john  reminded me alot about dhoom    he was suppressing srk in few scenes',\n",
       " 'man  i had so much fun watching this in the theater  i live in a mid sized midwestern town  so many desis showed up to hoot and cheer  despite slippery winter road conditions  made me yearn to be in india  or a larger us city  to experience it with the masses  i know it s not the perfect film  there were nitpicks here and there to improve  but man   its like the director and the stars new the assignment and delivered on everything bollywood fans wanted  and honestly needed  after the drought of recent times  ',\n",
       " 'i hid from this channel until now cos pathaan released this weekend in my country  what a film     what a comeback for the badshah of bollywood     i m relieved that deepika s character kicked ass and wasn t just a pretty face  i do agree that she needed a better back story but i think they made up for it with the action    ',\n",
       " 'never ever did i think that in full fledged srk action movie  john abraham would be the complete standout performer for me     ofc not taking away anything from srk  the king is back with a bang  damn it  ',\n",
       " 'the sacrifice scene in the lab just melted my heart  has to be one of the most impactful scenes in bollywood in the last few years  dimple kapadia is truly a genius ',\n",
       " 'i honestly was not getting the emotional depth i wished to get from the movie besides all that the action pieces and srk john combat really made it a good visual experience',\n",
       " 'i actually loved the bgm and the chemistry between pathaan and rubiah  it did work for me  the vfx did not  reallt bad according to todays standards  but overall a good massy action flick with srk at his supreme glory ',\n",
       " 'after watching srk in pathaan   felt happy  excited  and cheering on his dialogues but most importantly an emotional moment for srk fans    he is king of bollywood ',\n",
       " 'bluckbuster pathaan srk king rocks        ',\n",
       " 'pathan was absolutely amazing  srk definitely couldn t have made a better comeback    and now i m even more excited for tiger   because as it has been already hinted in this movie that both pathan and kabir are gonna have a cameo in it and its gonna be iconic    i wish even deepika s character is there i would love to watch her interacting with zoya ',\n",
       " 'john abraham is sooooooo underrated even after    years in the industry  of course  he had some bad movies but what shocks me is how producers don t want to take the risk of making anything other than action with him',\n",
       " 'you can t imagine what siddharth anand  will do with hrithik s fighter in       theaters will go bonkers ',\n",
       " 'one thing that i noticed was they integrated war bgm into the scene of salman and srk fighting over the train   who knows   we might see a hrithik cameo in tiger  ',\n",
       " 'i can t express how much happy i am for srk ',\n",
       " 'my only issue with srk movies is that pakistanis  even isi shown in good light and prime antagonist is a often an indian army officer gone rogue    be it john of pathan or sunil shetty of mai hun na',\n",
       " 'pathaan was a good entertaining film  srk is back and looks and what an entry scene just goosebumps   john as villain was perfect   the action between the two was just freaking awesome  deepika with machine gun was enough for me to see her spark    even though this felt similar to mission impossible   plot   just the cameo of salman khan is enough to create havoc at the theatre   omg what a freaking cameo  thanks to boycott bollywood gang   theatres have turned in to stadiums   hyderabad loves u srk and man what a comeback   definitely agree with ur review anmol    always great content  to watch  ',\n",
       " 'all the joy this movie has brought to people all over the world has made me internally truly happy for srk  i was rooting for his success for last    years and always kept rooting even when his movies were underwhelming  if you ain t loyal  r u really a fan anyway ',\n",
       " 'siddharth anand  i feel went for more out of the box and ambitious action sequences in this one    war was rather done on safe zone like familiar car and bike chases but ofcourse well shot  and this film is written better too  he is definitely getting better at his craft ',\n",
       " 'loved the scene in pathan when krk removed his white mask and said   magar kuee ',\n",
       " 'truly i skipped watching all reviews before watching the movie as it has excited me to a great level by it s amazing teaser and trailer  and man i have no words it s just wow wow feeling  i think you can literally compare it with gray man with all those hand to hand combats and deepika while doing action sequences felt like anna on screen  and the badass john as jim felt like chris evans  my god can t get over it  after a long time i can give full marks to a bollywood action film  finally king khan is back  ',\n",
       " 'that  abe hindi me bol    has a seperate fanbase   ',\n",
       " 'the og karan arjun are back with a bang  pathaan is the perfect entertainment flick',\n",
       " 'lol this movie literally reflects the iq level of the whole bollywood industry ',\n",
       " 'isi agents fighting against terrorists in movie  lol bc lol ',\n",
       " 'john abraham as a villain is really stellar']"
      ]
     },
     "execution_count": 8,
     "metadata": {},
     "output_type": "execute_result"
    }
   ],
   "source": [
    "corpus"
   ]
  },
  {
   "cell_type": "code",
   "execution_count": 9,
   "id": "2a027161",
   "metadata": {},
   "outputs": [],
   "source": [
    "cleaned_df = pd.DataFrame(corpus)"
   ]
  },
  {
   "cell_type": "code",
   "execution_count": 10,
   "id": "c1b57892",
   "metadata": {},
   "outputs": [
    {
     "data": {
      "text/html": [
       "<div>\n",
       "<style scoped>\n",
       "    .dataframe tbody tr th:only-of-type {\n",
       "        vertical-align: middle;\n",
       "    }\n",
       "\n",
       "    .dataframe tbody tr th {\n",
       "        vertical-align: top;\n",
       "    }\n",
       "\n",
       "    .dataframe thead th {\n",
       "        text-align: right;\n",
       "    }\n",
       "</style>\n",
       "<table border=\"1\" class=\"dataframe\">\n",
       "  <thead>\n",
       "    <tr style=\"text-align: right;\">\n",
       "      <th></th>\n",
       "      <th>0</th>\n",
       "    </tr>\n",
       "  </thead>\n",
       "  <tbody>\n",
       "    <tr>\n",
       "      <th>0</th>\n",
       "      <td>for me srk is not just a movie star  he is par...</td>\n",
       "    </tr>\n",
       "    <tr>\n",
       "      <th>1</th>\n",
       "      <td>john as villain always rocks aetbaar  dhoom  z...</td>\n",
       "    </tr>\n",
       "    <tr>\n",
       "      <th>2</th>\n",
       "      <td>absolutely exhilarating what pathaan is managi...</td>\n",
       "    </tr>\n",
       "    <tr>\n",
       "      <th>3</th>\n",
       "      <td>john s character  jim  must get a back story  ...</td>\n",
       "    </tr>\n",
       "    <tr>\n",
       "      <th>4</th>\n",
       "      <td>john abraham is officially the coolest baddie ...</td>\n",
       "    </tr>\n",
       "  </tbody>\n",
       "</table>\n",
       "</div>"
      ],
      "text/plain": [
       "                                                   0\n",
       "0  for me srk is not just a movie star  he is par...\n",
       "1  john as villain always rocks aetbaar  dhoom  z...\n",
       "2  absolutely exhilarating what pathaan is managi...\n",
       "3  john s character  jim  must get a back story  ...\n",
       "4  john abraham is officially the coolest baddie ..."
      ]
     },
     "execution_count": 10,
     "metadata": {},
     "output_type": "execute_result"
    }
   ],
   "source": [
    "cleaned_df.head()"
   ]
  },
  {
   "cell_type": "code",
   "execution_count": 11,
   "id": "c7c324e0",
   "metadata": {},
   "outputs": [],
   "source": [
    "import pyspark"
   ]
  },
  {
   "cell_type": "code",
   "execution_count": 12,
   "id": "3441cfb5",
   "metadata": {},
   "outputs": [
    {
     "data": {
      "text/plain": [
       "module"
      ]
     },
     "execution_count": 12,
     "metadata": {},
     "output_type": "execute_result"
    }
   ],
   "source": [
    "type(pyspark)"
   ]
  },
  {
   "cell_type": "code",
   "execution_count": 13,
   "id": "1ab9a625",
   "metadata": {},
   "outputs": [],
   "source": [
    "from pyspark.sql import SparkSession\n",
    "myspark = SparkSession.builder.master(\"local[1]\") \\\n",
    "                    .appName('myproj') \\\n",
    "                    .getOrCreate()"
   ]
  },
  {
   "cell_type": "code",
   "execution_count": 14,
   "id": "c862ea7b",
   "metadata": {},
   "outputs": [
    {
     "data": {
      "text/html": [
       "\n",
       "            <div>\n",
       "                <p><b>SparkSession - in-memory</b></p>\n",
       "                \n",
       "        <div>\n",
       "            <p><b>SparkContext</b></p>\n",
       "\n",
       "            <p><a href=\"http://DESKTOP-OJKQ2RC.mshome.net:4040\">Spark UI</a></p>\n",
       "\n",
       "            <dl>\n",
       "              <dt>Version</dt>\n",
       "                <dd><code>v3.3.2</code></dd>\n",
       "              <dt>Master</dt>\n",
       "                <dd><code>local[1]</code></dd>\n",
       "              <dt>AppName</dt>\n",
       "                <dd><code>myproj</code></dd>\n",
       "            </dl>\n",
       "        </div>\n",
       "        \n",
       "            </div>\n",
       "        "
      ],
      "text/plain": [
       "<pyspark.sql.session.SparkSession at 0x1602258dbb0>"
      ]
     },
     "execution_count": 14,
     "metadata": {},
     "output_type": "execute_result"
    }
   ],
   "source": [
    "myspark"
   ]
  },
  {
   "cell_type": "code",
   "execution_count": null,
   "id": "6505395d",
   "metadata": {},
   "outputs": [],
   "source": []
  }
 ],
 "metadata": {
  "kernelspec": {
   "display_name": "Python 3 (ipykernel)",
   "language": "python",
   "name": "python3"
  },
  "language_info": {
   "codemirror_mode": {
    "name": "ipython",
    "version": 3
   },
   "file_extension": ".py",
   "mimetype": "text/x-python",
   "name": "python",
   "nbconvert_exporter": "python",
   "pygments_lexer": "ipython3",
   "version": "3.9.13"
  }
 },
 "nbformat": 4,
 "nbformat_minor": 5
}
